{
 "cells": [
  {
   "cell_type": "markdown",
   "id": "f23d54d8",
   "metadata": {
    "deletable": false,
    "editable": false,
    "nbgrader": {
     "cell_type": "markdown",
     "checksum": "ff0bc2c9546dc7416a62ab1f8e86fe5a",
     "grade": false,
     "grade_id": "cell-fcd2666579131b77",
     "locked": true,
     "schema_version": 3,
     "solution": false,
     "task": false
    },
    "tags": []
   },
   "source": [
    "# Statystyka matematyczna - ćwiczenia laboratoryjne 2023/2024\n",
    "\n",
    "Ten notatnik zalicza się do grupy zestawów zadań, na podstawie których odbywa się zaliczenie ćwiczeń i podlega zwrotowi do oceny w ustalonym na zajęciach terminie.\n",
    "\n",
    "Uwagi i wytyczne ogólne dotyczące uzupełniania notatnika:\n",
    "- Podczas wykonywania zadań należy korzystać wyłącznie z pakietów zaimportowanych na początku notatnika oraz z pakietów wchodzących w skład standardowej biblioteki Pythona, które można zaimportować samodzielnie we wskazanej komórce notatnika.\n",
    "- Swoje rozwiązania należy wprowadzać wyłącznie w miejce następujących fragmentów kodu:<br/> `# YOUR CODE HERE`<br/> `raise NotImplementedError()`<br/> \n",
    "a odpowiedzi tekstowe w komórkach oznaczonych hasłem:<br/> \n",
    "`YOUR ANSWER HERE`<br/> \n",
    "Nie należy w żaden sposób modyfikować pozostałych fragmentów kodu oraz innych elementów notatnika, w szczególności dodawać lub usuwać komórek oraz zmieniać nazwy pliku.\n",
    "- Otrzymywane wyniki i odpowiedzi mają być rezultatem wykonania napisanego kodu.\n",
    "- Zadanie należy wykonać w taki sposób, aby podczas wykonywania kodu nie zostały wyświetlone żadne ostrzeżenia.\n",
    "- Zawarte w notatniku automatyczne testy mają charakter poglądowy. Dotyczą one wybranych aspektów zadań i mają za zadanie wyłapać podstawowe błędy. Przejście wszystkich testów nie oznacza, że zadanie jest wykonane w całości poprawnie.\n",
    "\n",
    "Uwagi i wytyczne ogólne dotyczące wizualizacji wyników:\n",
    "- Wszystkie wykresy powinny być wykonane w jednolitym, przejrzystym i czytelnym stylu, posiadać odpowiednio dobrane proporcje i zakresy wartości osi.\n",
    "- Wykresy oraz ich osie powinny mieć nadane tytuły. Jeżeli w obrębie figury znajduje się więcej niż jeden wykres to figura również powinna mieć nadany tytuł. \n",
    "- Figury powinny mieć ustawione białe tło, tak, aby niezależnie od ustawień notatnika wszystkie elementy wykresów były dobrze widoczne (domyślnie tło jest przeźroczyste co może powodować problemy w notatnikach z ustawionym ciemnym tłem).\n",
    "- Rozmiar poziomy figur nie powinien przekraczać 20 cali.\n",
    "\n",
    "Przed odesłaniem zestawu zadań do oceny proszę uzupełnić komórkę z danymi autorów rozwiązania (nazwa zespołu oraz imiona, nazwiska i numery indeksów członków zespołu) oraz upewnić się, że notatnik działa zgodnie z oczekiwaniami. W tym celu należy skorzystać z opcji **Restart Kernel and Run All Cells...** dostępnej na górnej belce notatnika pod symbolem $\\blacktriangleright\\blacktriangleright$."
   ]
  },
  {
   "cell_type": "markdown",
   "id": "86da2030",
   "metadata": {},
   "source": [
    "Nazwa zespołu: 2.38 Członkowie: Roksana Jandura 416314, Katarzyna Wesołwoska 415124, Katarzyna Tokarczuk 415787, Magdalena Pogorzelec 417858"
   ]
  },
  {
   "cell_type": "markdown",
   "id": "4968223f",
   "metadata": {
    "deletable": false,
    "editable": false,
    "nbgrader": {
     "cell_type": "markdown",
     "checksum": "eddc8826810e4a6f7bf68319da334bd9",
     "grade": false,
     "grade_id": "cell-109006d425e5cf83",
     "locked": true,
     "schema_version": 3,
     "solution": false,
     "task": false
    },
    "tags": []
   },
   "source": [
    "---"
   ]
  },
  {
   "cell_type": "markdown",
   "id": "8837614f-5b2c-4388-8990-c5e54e875948",
   "metadata": {
    "deletable": false,
    "editable": false,
    "nbgrader": {
     "cell_type": "markdown",
     "checksum": "c8d1afc807d3ffb50f942fa7ae76c4d8",
     "grade": false,
     "grade_id": "cell-7c4f21a6cdeccca2",
     "locked": true,
     "schema_version": 3,
     "solution": false,
     "task": false
    },
    "tags": []
   },
   "source": [
    "# Zestaw zadań 11: Weryfikacja hipotez statystycznych - metoda bootstap i testy permutacyjne"
   ]
  },
  {
   "cell_type": "code",
   "execution_count": 1,
   "id": "b6b4bd0b-8917-49af-a6ca-df50054b200f",
   "metadata": {
    "deletable": false,
    "editable": false,
    "nbgrader": {
     "cell_type": "code",
     "checksum": "d63eb6abc950cecce697a055e9de7e2f",
     "grade": false,
     "grade_id": "cell-4299d1af0aa3324e",
     "locked": true,
     "schema_version": 3,
     "solution": false,
     "task": false
    },
    "tags": []
   },
   "outputs": [],
   "source": [
    "import numpy as np\n",
    "import pandas as pd\n",
    "import scipy as sp\n",
    "import matplotlib as mpl\n",
    "import matplotlib.pyplot as plt\n",
    "import seaborn as sns"
   ]
  },
  {
   "cell_type": "markdown",
   "id": "3e36c947-084b-4886-ae5d-4dd2fad84cc1",
   "metadata": {
    "deletable": false,
    "editable": false,
    "nbgrader": {
     "cell_type": "markdown",
     "checksum": "2a905e2da7c0668ec0e37ad81dfbfc56",
     "grade": false,
     "grade_id": "cell-55137fca227bfc7b",
     "locked": true,
     "schema_version": 3,
     "solution": false,
     "task": false
    },
    "tags": []
   },
   "source": [
    "### Dane do zadań\n",
    "\n",
    "W celu wygenerowania danych wykorzystywanych w zawartych w notatniku zadaniach i komórkach testowych wykonaj obie poniższe komórki."
   ]
  },
  {
   "cell_type": "code",
   "execution_count": 2,
   "id": "f47e43fc-8e10-458c-868c-8ddeae57a017",
   "metadata": {
    "deletable": false,
    "editable": false,
    "nbgrader": {
     "cell_type": "code",
     "checksum": "8cc2684be469d6773cbe37ead80f721e",
     "grade": false,
     "grade_id": "cell-bde79549c3be07f2",
     "locked": true,
     "schema_version": 3,
     "solution": false,
     "task": false
    },
    "tags": []
   },
   "outputs": [
    {
     "data": {
      "text/html": [
       "<div>\n",
       "<style scoped>\n",
       "    .dataframe tbody tr th:only-of-type {\n",
       "        vertical-align: middle;\n",
       "    }\n",
       "\n",
       "    .dataframe tbody tr th {\n",
       "        vertical-align: top;\n",
       "    }\n",
       "\n",
       "    .dataframe thead th {\n",
       "        text-align: right;\n",
       "    }\n",
       "</style>\n",
       "<table border=\"1\" class=\"dataframe\">\n",
       "  <thead>\n",
       "    <tr style=\"text-align: right;\">\n",
       "      <th></th>\n",
       "      <th>X</th>\n",
       "    </tr>\n",
       "  </thead>\n",
       "  <tbody>\n",
       "    <tr>\n",
       "      <th>0</th>\n",
       "      <td>5.338105</td>\n",
       "    </tr>\n",
       "    <tr>\n",
       "      <th>1</th>\n",
       "      <td>4.906813</td>\n",
       "    </tr>\n",
       "    <tr>\n",
       "      <th>2</th>\n",
       "      <td>5.006564</td>\n",
       "    </tr>\n",
       "    <tr>\n",
       "      <th>3</th>\n",
       "      <td>5.081503</td>\n",
       "    </tr>\n",
       "    <tr>\n",
       "      <th>4</th>\n",
       "      <td>4.842215</td>\n",
       "    </tr>\n",
       "  </tbody>\n",
       "</table>\n",
       "</div>"
      ],
      "text/plain": [
       "          X\n",
       "0  5.338105\n",
       "1  4.906813\n",
       "2  5.006564\n",
       "3  5.081503\n",
       "4  4.842215"
      ]
     },
     "execution_count": 2,
     "metadata": {},
     "output_type": "execute_result"
    }
   ],
   "source": [
    "test_data_1 = pd.DataFrame(data=sp.stats.norm.rvs(loc=5, scale=0.2, size=15, random_state=7), columns=[\"X\"])\n",
    "test_data_1.head()"
   ]
  },
  {
   "cell_type": "code",
   "execution_count": 3,
   "id": "99f100fb-98fe-4992-af3a-7af7850507ba",
   "metadata": {
    "deletable": false,
    "editable": false,
    "nbgrader": {
     "cell_type": "code",
     "checksum": "45d978fe5e470cf101aa300cdc8a70b2",
     "grade": false,
     "grade_id": "cell-b2daedb2e162e246",
     "locked": true,
     "schema_version": 3,
     "solution": false,
     "task": false
    },
    "tags": []
   },
   "outputs": [
    {
     "data": {
      "text/html": [
       "<div>\n",
       "<style scoped>\n",
       "    .dataframe tbody tr th:only-of-type {\n",
       "        vertical-align: middle;\n",
       "    }\n",
       "\n",
       "    .dataframe tbody tr th {\n",
       "        vertical-align: top;\n",
       "    }\n",
       "\n",
       "    .dataframe thead th {\n",
       "        text-align: right;\n",
       "    }\n",
       "</style>\n",
       "<table border=\"1\" class=\"dataframe\">\n",
       "  <thead>\n",
       "    <tr style=\"text-align: right;\">\n",
       "      <th></th>\n",
       "      <th>X</th>\n",
       "    </tr>\n",
       "  </thead>\n",
       "  <tbody>\n",
       "    <tr>\n",
       "      <th>0</th>\n",
       "      <td>5.175251</td>\n",
       "    </tr>\n",
       "    <tr>\n",
       "      <th>1</th>\n",
       "      <td>5.034884</td>\n",
       "    </tr>\n",
       "    <tr>\n",
       "      <th>2</th>\n",
       "      <td>4.975563</td>\n",
       "    </tr>\n",
       "    <tr>\n",
       "      <th>3</th>\n",
       "      <td>5.018992</td>\n",
       "    </tr>\n",
       "    <tr>\n",
       "      <th>4</th>\n",
       "      <td>4.969178</td>\n",
       "    </tr>\n",
       "  </tbody>\n",
       "</table>\n",
       "</div>"
      ],
      "text/plain": [
       "          X\n",
       "0  5.175251\n",
       "1  5.034884\n",
       "2  4.975563\n",
       "3  5.018992\n",
       "4  4.969178"
      ]
     },
     "execution_count": 3,
     "metadata": {},
     "output_type": "execute_result"
    }
   ],
   "source": [
    "test_data_2 = pd.DataFrame(data=sp.stats.norm.rvs(loc=5.12, scale=0.25, size=23, random_state=19), columns=[\"X\"])\n",
    "test_data_2.head()"
   ]
  },
  {
   "cell_type": "markdown",
   "id": "8e27ec51-4710-453e-8a72-cda38e59ca5b",
   "metadata": {
    "deletable": false,
    "editable": false,
    "nbgrader": {
     "cell_type": "markdown",
     "checksum": "0561d3cacb7a2fa6d89a560f2d4d8d6e",
     "grade": false,
     "grade_id": "cell-24f6d6234de2b216",
     "locked": true,
     "schema_version": 3,
     "solution": false,
     "task": false
    },
    "tags": []
   },
   "source": [
    "### Zadanie 1: Weryfikacja hipotezy o wartości oczekiwanej metodą bootstrap [7 pkt]\n",
    "\n",
    "Przygotuj funkcję `bootstrap_mean_NHST()`, która będzie weryfikować hipotezę o wartości przeciętnej metodą bootstrap i wyświetlać wynik testu statystycznego zgodnie z wytycznymi zawartymi w dołączonym do notatnika zestawie wzorów, w treści zadania oraz w docstring funkcji.\n",
    "\n",
    "Uwagi do wykonania zadania:\n",
    " - Automatyczne testy zakładają losowanie prób wg następującego schematu - kolejne próby są losowane w pętli for, a funkcja losująca próbę (np. `pd.sample()`) w kolejnych losowaniach ma ustawioną wartość parametru odpowiadającego za ziarno generatora liczb losowych na wartość `random_state`, `random_state+1`, `random_state+2` itd. \n",
    " - Celem zadania jest napisanie funkcji od podstaw, w rozwiązaniu nie należy korzystać z gotowych funkcji służących do estymacji bootstrapowej."
   ]
  },
  {
   "cell_type": "code",
   "execution_count": 4,
   "id": "8e517854-97d7-4e53-863a-7df0ac4e2383",
   "metadata": {
    "deletable": false,
    "nbgrader": {
     "cell_type": "code",
     "checksum": "6d62a718661ec879629abdbfab0ca68e",
     "grade": false,
     "grade_id": "cell-785ec15f742a9fbb",
     "locked": false,
     "schema_version": 3,
     "solution": true,
     "task": false
    },
    "tags": []
   },
   "outputs": [],
   "source": [
    "def bootstrap_mean_NHST(data, H0, H1, number_of_samples, alpha, random_state):\n",
    "    \"\"\"\n",
    "    Parameters\n",
    "    -------\n",
    "    data: DataFrame\n",
    "        Tablica zawierająca domyślny indeks i kolumnę \"X\" wynikami próby losowej.\n",
    "    H0: float\n",
    "        Wartość przeciętna przyjęta jako hipoteza zerowa.\n",
    "    H1: str\n",
    "        Postać hipotezy alternatywnej, przyjmuje wartości:\n",
    "        - two-sided: wartość przeciętna jest różna od wartości przyjętej w H0,\n",
    "        - less: wartość przeciętna jest mniejsza od wartości przyjętej w H0,\n",
    "        - greater: wartość przeciętna jest większa od wartości przyjętej w H0.\n",
    "    alpha: float\n",
    "        Wartość określająca poziom istotności.\n",
    "    \n",
    "    Returns\n",
    "    -------\n",
    "    pvalue: float\n",
    "        Prawdopodobieństwo otrzymania bardziej ekstremalnej wartości statystyki testowej (w kierunku hipotezy alternatywnej)\n",
    "        względem wartości otrzymanej na podstawie próby losowej.\n",
    "    H: int\n",
    "        Wynik testu statystycznego, przyjmuje wartość:\n",
    "        0 - gdy wynik testu istotności nie daje podstaw do odrzucenia H0 na rzecz H1 na poziomie istotności 1-alpha,\n",
    "        1 - gdy następuje odrzucenie H0 na rzecz H1 na poziomie istotności 1-alpha.\n",
    "    \"\"\"\n",
    "    # YOUR CODE HERE\n",
    "\n",
    "    #populacja bootstrapowa\n",
    "    sample_mean = data['X'].mean()\n",
    "    bootstrap_population = data['X'] + (H0 - sample_mean)\n",
    "    \n",
    "    n = len(data)\n",
    "    bootstrap_samples = np.empty((number_of_samples, n))\n",
    "\n",
    "    #losowanie prób bootstrapowych\n",
    "    for i in range(number_of_samples):\n",
    "        np.random.seed(random_state + i)\n",
    "        bootstrap_samples[i] = np.random.choice(bootstrap_population, size=n, replace=True)\n",
    "    \n",
    "    bootstrap_means = bootstrap_samples.mean(axis=1)\n",
    "    \n",
    "    #wyliczanie pvalue\n",
    "    if H1 == 'two-sided':\n",
    "        pvalue = (np.mean(np.abs(bootstrap_means - H0) >= np.abs(sample_mean - H0)))\n",
    "    elif H1 == 'less':\n",
    "        pvalue = (np.mean(bootstrap_means <= sample_mean))\n",
    "    elif H1 == 'greater':\n",
    "        pvalue = (np.mean(bootstrap_means >= sample_mean))\n",
    "\n",
    "    #decyzja weryfikująca\n",
    "    H = 1 if pvalue < alpha else 0\n",
    "    print(f\"H wynosi {H:} dla wartosci pvalue {pvalue:}.\")\n",
    "    return pvalue, H"
   ]
  },
  {
   "cell_type": "code",
   "execution_count": 5,
   "id": "41d5303c-f23a-44fc-a94f-db672f6e2272",
   "metadata": {
    "deletable": false,
    "editable": false,
    "nbgrader": {
     "cell_type": "code",
     "checksum": "743604acf2cd7e2930f10323f286d448",
     "grade": true,
     "grade_id": "cell-8031bfd90ae1d7db",
     "locked": true,
     "points": 7,
     "schema_version": 3,
     "solution": false,
     "task": false
    },
    "tags": []
   },
   "outputs": [
    {
     "name": "stdout",
     "output_type": "stream",
     "text": [
      "H wynosi 0 dla wartosci pvalue 0.055.\n",
      "H wynosi 1 dla wartosci pvalue 0.025.\n",
      "H wynosi 0 dla wartosci pvalue 0.974.\n"
     ]
    }
   ],
   "source": [
    "# Komórka testowa\n",
    "assert np.all(np.isclose(bootstrap_mean_NHST(test_data_1, 5.08, \"two-sided\", 1000, 0.05, 10), (0.055, 0)))\n",
    "assert np.all(np.isclose(bootstrap_mean_NHST(test_data_1, 5.08, \"less\", 2000, 0.05, 12), (0.025, 1)))\n",
    "assert np.all(np.isclose(bootstrap_mean_NHST(test_data_1, 5.08, \"greater\", 1500, 0.1, 15), (0.974, 0)))"
   ]
  },
  {
   "cell_type": "markdown",
   "id": "83252197-43da-40d5-9186-20748b6838ce",
   "metadata": {
    "deletable": false,
    "editable": false,
    "nbgrader": {
     "cell_type": "markdown",
     "checksum": "af4124244126cabbcacd73781fc26a39",
     "grade": false,
     "grade_id": "cell-658f423b1770faf5",
     "locked": true,
     "schema_version": 3,
     "solution": false,
     "task": false
    },
    "tags": []
   },
   "source": [
    "### Zadanie 2: Weryfikacja hipotezy o dwóch wartościach oczekiwanych metodą bootstrap [7 pkt]\n",
    "\n",
    "Przygotuj funkcję `bootstrap_means_NHST()`, która będzie weryfikować hipotezę o dwóch wartościach przeciętnych metodą bootstrap i wyświetlać wynik testu statystycznego zgodnie z wytycznymi zawartymi w dołączonym do notatnika zestawie wzorów, w treści zadania oraz w docstring funkcji.\n",
    "\n",
    "Uwagi do wykonania zadania:\n",
    " - Automatyczne testy zakładają losowanie prób wg następującego schematu - kolejne próby są losowane w pętli for, a funkcja losująca próbę (np. `pd.sample()`) w kolejnych losowaniach ma ustawioną wartość parametru odpowiadającego za ziarno generatora liczb losowych na wartość `random_state` `random_state+2`, `random_state+4` itd. (pierwsza próba) oraz `random_state+1` `random_state+3`, `random_state+5` itd. (druga próba).\n",
    " - Celem zadania jest napisanie funkcji od podstaw, w rozwiązaniu nie należy korzystać z gotowych funkcji służących do estymacji bootstrapowej."
   ]
  },
  {
   "cell_type": "code",
   "execution_count": 6,
   "id": "f0c5ee03-99ca-4eb0-bbef-c2f0f0620306",
   "metadata": {
    "deletable": false,
    "nbgrader": {
     "cell_type": "code",
     "checksum": "706e926ee3223195748e24b5dda19f10",
     "grade": false,
     "grade_id": "cell-7e77c94e4c7ca7d1",
     "locked": false,
     "schema_version": 3,
     "solution": true,
     "task": false
    },
    "tags": []
   },
   "outputs": [],
   "source": [
    "def bootstrap_means_NHST(data1, data2, H1, number_of_samples, alpha, random_state):\n",
    "    \"\"\"\n",
    "    Parameters\n",
    "    -------\n",
    "    data1: DataFrame\n",
    "        Tablica zawierająca domyślny indeks i kolumnę \"X\" wynikami pierwszej próby losowej.\n",
    "    data2: DataFrame\n",
    "        Tablica zawierająca domyślny indeks i kolumnę \"X\" wynikami drugiej próby losowej.\n",
    "    H1: str\n",
    "        Postać hipotezy alternatywnej, przyjmuje wartości:\n",
    "        - two-sided: wartość przeciętna populacji, z których zostały pobrane próby jest różna,\n",
    "        - less: wartość przeciętna populacji, z której została pobrana druga próba jest mniejsza,\n",
    "        - greater: wartość przeciętna populacji, z której została pobrana druga próba jest większa,\n",
    "    alpha: float\n",
    "        Wartość określająca poziom istotności.\n",
    "    \n",
    "    Returns\n",
    "    -------\n",
    "    pvalue: float\n",
    "        Prawdopodobieństwo otrzymania bardziej ekstremalnej wartości statystyki testowej (w kierunku hipotezy alternatywnej)\n",
    "        względem wartości otrzymanej na podstawie próby losowej.\n",
    "    H: int\n",
    "        Wynik testu statystycznego, przyjmuje wartość:\n",
    "        0 - gdy wynik testu istotności nie daje podstaw do odrzucenia H0 na rzecz H1 na poziomie istotności 1-alpha,\n",
    "        1 - gdy następuje odrzucenie H0 na rzecz H1 na poziomie istotności 1-alpha.\n",
    "    \"\"\"\n",
    "    # YOUR CODE HERE\n",
    "    #raise NotImplementedError()\n",
    "    \n",
    "    # Rozmiary prób\n",
    "    n1 = len(data1)\n",
    "    n2 = len(data2)\n",
    "    \n",
    "    # Obliczenie oryginalnej różnicy średnich\n",
    "    original_mean_diff = data1['X'].mean() - data2['X'].mean()\n",
    "    \n",
    "    # Połączenie obu prób w jedną populację bootstrapową\n",
    "    n = np.concatenate([data1['X'].values, data2['X'].values])\n",
    "    \n",
    "    # Lista do przechowywania różnic średnich z prób bootstrapowych\n",
    "    bootstrap_diffs = []\n",
    "    \n",
    "    # Losowanie prób bootstrapowych\n",
    "    for i in range(number_of_samples):\n",
    "        # Losowanie prób z populacji bootstrapowej\n",
    "        np.random.seed(random_state + 2 * i)\n",
    "        sample1 = np.random.choice(n, n1, replace=True)\n",
    "        \n",
    "        np.random.seed(random_state + 2 * i + 1)\n",
    "        sample2 = np.random.choice(n, n2, replace=True)\n",
    "        \n",
    "        # Obliczenie różnicy średnich dla prób bootstrapowych\n",
    "        mean_diff = sample1.mean() - sample2.mean()\n",
    "        bootstrap_diffs.append(mean_diff)\n",
    "    \n",
    "    bootstrap_diffs = np.array(bootstrap_diffs)\n",
    "    \n",
    "    # Obliczenie p-value w zależności od hipotezy alternatywnej\n",
    "    if H1 == 'two-sided':\n",
    "        pvalue = np.mean(np.abs(bootstrap_diffs) >= np.abs(original_mean_diff))\n",
    "    elif H1 == 'greater':\n",
    "        pvalue = np.mean(bootstrap_diffs <= original_mean_diff)\n",
    "    elif H1 == 'less':\n",
    "        pvalue = np.mean(bootstrap_diffs >= original_mean_diff)\n",
    "    \n",
    "    # Decyzja o odrzuceniu H0 na rzecz H1\n",
    "    H = int(pvalue <= alpha)\n",
    "    print(f\"H wynosi {H:} dla wartosci pvalue {pvalue:}.\")\n",
    "    return pvalue, H"
   ]
  },
  {
   "cell_type": "code",
   "execution_count": 7,
   "id": "4f010ec5-091a-4969-a9f5-4abcdb59c441",
   "metadata": {
    "deletable": false,
    "editable": false,
    "nbgrader": {
     "cell_type": "code",
     "checksum": "edbf1cf8732dc7b340bdcaf3df3efaa0",
     "grade": true,
     "grade_id": "cell-254f587a69fbd2a9",
     "locked": true,
     "points": 7,
     "schema_version": 3,
     "solution": false,
     "task": false
    },
    "tags": []
   },
   "outputs": [
    {
     "name": "stdout",
     "output_type": "stream",
     "text": [
      "H wynosi 0 dla wartosci pvalue 0.091.\n",
      "H wynosi 0 dla wartosci pvalue 0.954.\n",
      "H wynosi 1 dla wartosci pvalue 0.046.\n"
     ]
    }
   ],
   "source": [
    "# Komórka testowa\n",
    "assert np.all(np.isclose(bootstrap_means_NHST(test_data_1, test_data_2, \"two-sided\", 3000, 0.05, 144), (0.091, 0)))\n",
    "assert np.all(np.isclose(bootstrap_means_NHST(test_data_1, test_data_2, \"less\", 1000, 0.1, 10), (0.954, 0)))\n",
    "assert np.all(np.isclose(bootstrap_means_NHST(test_data_1, test_data_2, \"greater\", 1500, 0.05, 132), (0.046, 1)))"
   ]
  },
  {
   "cell_type": "markdown",
   "id": "67ef168d-3b1a-4c34-83e5-dc06f7633fc3",
   "metadata": {
    "deletable": false,
    "editable": false,
    "nbgrader": {
     "cell_type": "markdown",
     "checksum": "73ef68cc380f61eb7f5d860a7665c426",
     "grade": false,
     "grade_id": "cell-8ab167637c58772d",
     "locked": true,
     "schema_version": 3,
     "solution": false,
     "task": false
    },
    "tags": []
   },
   "source": [
    "### Zadanie 3: Weryfikacja hipotezy o dwóch wartościach oczekiwanych metodą testu permutacyjnego [7 pkt]\n",
    "\n",
    "Przygotuj funkcję `permutation_means_NHST()`, która będzie weryfikować hipotezę o dwóch wartościach przeciętnych metodą testu permutacyjnego i wyświetlać wynik testu statystycznego zgodnie z wytycznymi zawartymi w dołączonym do notatnika zestawie wzorów, w treści zadania oraz w docstring funkcji.\n",
    "\n",
    "Uwagi do wykonania zadania:\n",
    " - Automatyczne testy zakładają losowanie prób wg następującego schematu - kolejne próby są losowane w pętli for, a funkcja losująca pierwszą próbę (np. `pd.sample()`) w kolejnych losowaniach ma ustawioną wartość parametru odpowiadającego za ziarno generatora liczb losowych na wartość `random_state`, `random_state+1`, `random_state+2` itd. Pozostałe obserwacje trafiają do drugiej próby.\n",
    " - Celem zadania jest napisanie funkcji od podstaw, w rozwiązaniu nie należy korzystać z gotowych funkcji służących do estymacji bootstrapowej."
   ]
  },
  {
   "cell_type": "code",
   "execution_count": 8,
   "id": "cacf7029-db79-4c8f-a5ee-58954dd60931",
   "metadata": {
    "deletable": false,
    "nbgrader": {
     "cell_type": "code",
     "checksum": "9163aec1ce2f21b1adf185406bbb5cec",
     "grade": false,
     "grade_id": "cell-50fd23a693b99abd",
     "locked": false,
     "schema_version": 3,
     "solution": true,
     "task": false
    },
    "tags": []
   },
   "outputs": [],
   "source": [
    "def permutation_means_NHST(data1, data2, H1, number_of_samples, alpha, random_state):\n",
    "    \"\"\"\n",
    "    Parameters\n",
    "    -------\n",
    "    data1: DataFrame\n",
    "        Tablica zawierająca domyślny indeks i kolumnę \"X\" wynikami pierwszej próby losowej.\n",
    "    data2: DataFrame\n",
    "        Tablica zawierająca domyślny indeks i kolumnę \"X\" wynikami drugiej próby losowej.\n",
    "    H1: str\n",
    "        Postać hipotezy alternatywnej, przyjmuje wartości:\n",
    "        - two-sided: wartości przeciętne populacji, z których zostały pobrane próby są różne,\n",
    "        - less: wartość przeciętna populacji, z której została pobrana druga próba jest mniejsza,\n",
    "        - greater: wartość przeciętna populacji, z której została pobrana druga próba jest większa,\n",
    "    alpha: float\n",
    "        Wartość określająca poziom istotności.\n",
    "    \n",
    "    Returns\n",
    "    -------\n",
    "    pvalue: float\n",
    "        Prawdopodobieństwo otrzymania bardziej ekstremalnej wartości statystyki testowej (w kierunku hipotezy alternatywnej)\n",
    "        względem wartości otrzymanej na podstawie próby losowej.\n",
    "    H: int\n",
    "        Wynik testu statystycznego, przyjmuje wartość:\n",
    "        0 - gdy wynik testu istotności nie daje podstaw do odrzucenia H0 na rzecz H1 na poziomie istotności 1-alpha,\n",
    "        1 - gdy następuje odrzucenie H0 na rzecz H1 na poziomie istotności 1-alpha.\n",
    "    \"\"\"\n",
    "    #łączenie danych\n",
    "    dane = pd.concat([data1['X'], data2['X']])\n",
    "    n1 = len(data1) #dlugosci danych\n",
    "    n2 = len(data2)\n",
    "    \n",
    "    #różnica średnich (wybór odpowiedniej statystyki testowej)\n",
    "    srednia_obserwowana=data2['X'].mean()-data1['X'].mean()\n",
    "\n",
    "    #pusta tablica do przechowywania roznic sredniej\n",
    "    srednia=np.zeros(number_of_samples)\n",
    "    for i in range(number_of_samples):\n",
    "        mieszanie=dane.sample(frac=1, replace=False, random_state=random_state + i) #pomieszanie danych\n",
    "        x1= mieszanie.iloc[:n1] #podział na dwie części\n",
    "        x2= mieszanie.iloc[n1:]\n",
    "        srednia[i] = x2.mean() - x1.mean() #różnica średnich między tymi częściami\n",
    "\n",
    "    #pvalue na podstawie hipotezy alternatywnej\n",
    "    if H1 == 'two-sided':\n",
    "        pvalue = np.mean(np.abs(srednia)>=np.abs(srednia_obserwowana)) #zarówna większa jak i mniejsza\n",
    "    elif H1 == 'greater':\n",
    "        pvalue = np.mean(srednia>=srednia_obserwowana)\n",
    "    elif H1 == 'less':\n",
    "        pvalue = np.mean(srednia<=srednia_obserwowana)\n",
    "    \n",
    "    #decyzja o odrzuceniu H0 na podstawie H1\n",
    "    if  pvalue < alpha:\n",
    "        H=1\n",
    "    else:\n",
    "        H=0\n",
    "\n",
    "    print(f\"H wynosi {H:} dla wartosci pvalue {pvalue:}.\")\n",
    "    return pvalue, H"
   ]
  },
  {
   "cell_type": "code",
   "execution_count": 9,
   "id": "a6cd5760-9ad1-42f2-a392-0572c361bf75",
   "metadata": {
    "deletable": false,
    "editable": false,
    "nbgrader": {
     "cell_type": "code",
     "checksum": "225223250bb95d6170e5dc4b6a6041f6",
     "grade": true,
     "grade_id": "cell-461bf8e09003812c",
     "locked": true,
     "points": 7,
     "schema_version": 3,
     "solution": false,
     "task": false
    },
    "tags": []
   },
   "outputs": [
    {
     "name": "stdout",
     "output_type": "stream",
     "text": [
      "H wynosi 1 dla wartosci pvalue 0.0905.\n",
      "H wynosi 0 dla wartosci pvalue 0.945.\n",
      "H wynosi 1 dla wartosci pvalue 0.0465.\n"
     ]
    }
   ],
   "source": [
    "# Komórka testowa\n",
    "assert np.all(np.isclose(permutation_means_NHST(test_data_1, test_data_2, \"two-sided\", 2000, 0.1, 67), (0.0905, 1)))\n",
    "assert np.all(np.isclose(permutation_means_NHST(test_data_1, test_data_2, \"less\", 1000, 0.05, 15), (0.945, 0)))\n",
    "assert np.all(np.isclose(permutation_means_NHST(test_data_1, test_data_2, \"greater\", 2000, 0.05, 12), (0.0465, 1)))"
   ]
  },
  {
   "cell_type": "markdown",
   "id": "c37526b4-7d02-42d7-bc61-9b11906717ec",
   "metadata": {
    "deletable": false,
    "editable": false,
    "nbgrader": {
     "cell_type": "markdown",
     "checksum": "d1305a16bc31f609642ed8d8f7c27404",
     "grade": false,
     "grade_id": "cell-6b3949040bb7326e",
     "locked": true,
     "schema_version": 3,
     "solution": false,
     "task": false
    },
    "tags": []
   },
   "source": [
    "### Zadanie 4: Weryfikacja hipotezy o wartości oczekiwanej metodą testu permutacyjnego (dedykowana funkcja) [4 pkt]\n",
    "\n",
    "#### a) \n",
    "Wykorzystaj funkcję `scipy.stats.permutation_test()`, do zwertfikowania hipotezy o równości wartościach przeciętnych populacji z których zostały pobrane próby `test_data_1` i `test_data_2` względem hipotezy alternatywnej, że wartości oczekiwane tych populacji są różne. W obliczeniach przyjmij poziom istotności 1 - alpha = 0.9.\n",
    "\n",
    "Uwagi do wykonania zadania:\n",
    " - Podczas obliczeń ustaw wartość argumentu funkcji `scipy.stats.permutation_test()` odpowiadającego za ziarno generatora liczb losowych na 29."
   ]
  },
  {
   "cell_type": "code",
   "execution_count": 10,
   "id": "12349b63-1e2e-4fb7-be57-592f116b5130",
   "metadata": {
    "deletable": false,
    "nbgrader": {
     "cell_type": "code",
     "checksum": "d72e90f8167230a05b6b3a90facebabe",
     "grade": false,
     "grade_id": "cell-9cbb343f252cea62",
     "locked": false,
     "schema_version": 3,
     "solution": true,
     "task": false
    },
    "tags": []
   },
   "outputs": [],
   "source": [
    "# YOUR CODE HERE\n",
    "def statistic_1(x, y):\n",
    "    return np.mean(x)-np.mean(y)\n",
    "\n",
    "#wartości oczekiwane mają być są różne.\n",
    "result_1 = sp.stats.permutation_test((test_data_1, test_data_2), statistic=statistic_1, random_state=29, alternative='two-sided')\n",
    "\n",
    "pvalue_1 = result_1.pvalue\n",
    "#1-alpha=0.9 czyli alpha=0.1\n",
    "alpfa=0.1\n",
    "if pvalue_1 <= alpfa:\n",
    "    H_1=1 #odrzucamy hipoteze zerową\n",
    "else:\n",
    "    H_1=0 #nie odrzucamy hipotezy zerowej\n"
   ]
  },
  {
   "cell_type": "code",
   "execution_count": 11,
   "id": "440bedd1-5e0b-4503-834f-3137db113036",
   "metadata": {
    "deletable": false,
    "editable": false,
    "nbgrader": {
     "cell_type": "code",
     "checksum": "1da890cf2aca2c564139a846960eb657",
     "grade": true,
     "grade_id": "cell-afc9121beb4bb34d",
     "locked": true,
     "points": 2,
     "schema_version": 3,
     "solution": false,
     "task": false
    },
    "tags": []
   },
   "outputs": [],
   "source": [
    "# Komórka testowa\n",
    "assert np.isclose(pvalue_1, 0.0944)\n",
    "assert H_1 == 1"
   ]
  },
  {
   "cell_type": "markdown",
   "id": "8c434a83-50c8-4f72-9664-3a9104b265b9",
   "metadata": {
    "deletable": false,
    "editable": false,
    "nbgrader": {
     "cell_type": "markdown",
     "checksum": "1dca94a20966a0f8d7b57aa92d16f0ab",
     "grade": false,
     "grade_id": "cell-cdca9199d51501be",
     "locked": true,
     "schema_version": 3,
     "solution": false,
     "task": false
    },
    "tags": []
   },
   "source": [
    "#### b) \n",
    "Wykorzystaj funkcję `scipy.stats.permutation_test()`, do zwertfikowania hipotezy o równości wariancji populacji z których zostały pobrane próby `test_data_1` i `test_data_2` względem hipotezy alternatywnej, że wariacja populacji, z której została pobrana próba `test_data_2` jest wyższa. W obliczeniach przyjmij poziom istotności 1 - alpha = 0.9.\n",
    "\n",
    "Uwagi do wykonania zadania:\n",
    " - Automatyczne testy przewidują obliczenie wartości wariancji dla wartości parametru `ddof=1`.\n",
    " - Podczas obliczeń ustaw wartość argumentu funkcji `scipy.stats.permutation_test()` odpowiadającego za ziarno generatora liczb losowych na 29."
   ]
  },
  {
   "cell_type": "code",
   "execution_count": 12,
   "id": "74bc8460-8dd1-4ed2-8144-b524c809845e",
   "metadata": {
    "deletable": false,
    "nbgrader": {
     "cell_type": "code",
     "checksum": "40287e2a6f2e580e1a79fe878a4ac264",
     "grade": false,
     "grade_id": "cell-c11ce5a3f5befcec",
     "locked": false,
     "schema_version": 3,
     "solution": true,
     "task": false
    },
    "tags": []
   },
   "outputs": [],
   "source": [
    "# YOUR CODE HERE\n",
    "def statistic_2(x, y):\n",
    "    return np.var(x, ddof=1)-np.var(y, ddof=1)\n",
    "\n",
    "#wariacja populacji z test_data_2 powinna być wyższa\n",
    "result_2 = sp.stats.permutation_test((test_data_1, test_data_2), statistic=statistic_2, random_state=29,alternative='less')\n",
    "\n",
    "pvalue_2 = result_2.pvalue\n",
    "#1-alpha=0.9 czyli alpha=0.1\n",
    "alpfa=0.1\n",
    "if pvalue_2 <= alpfa:\n",
    "    H_2=1 #odrzucamy hipoteze zerową\n",
    "else:\n",
    "    H_2=0 #nie odrzucamy hipotezy zerowej\n"
   ]
  },
  {
   "cell_type": "code",
   "execution_count": 13,
   "id": "7e0e561e-fa73-4277-8918-e4a01d70580d",
   "metadata": {
    "deletable": false,
    "editable": false,
    "nbgrader": {
     "cell_type": "code",
     "checksum": "2a51986cb2e38e2e8a135fd6de07bf89",
     "grade": true,
     "grade_id": "cell-121e82881f5f9118",
     "locked": true,
     "points": 2,
     "schema_version": 3,
     "solution": false,
     "task": false
    },
    "tags": []
   },
   "outputs": [],
   "source": [
    "# Komórka testowa\n",
    "assert np.isclose(pvalue_2, 0.1139)\n",
    "assert H_2 == 0"
   ]
  },
  {
   "cell_type": "code",
   "execution_count": null,
   "id": "d0b025f9-57de-465a-ab96-6946994c9e2a",
   "metadata": {},
   "outputs": [],
   "source": []
  },
  {
   "cell_type": "code",
   "execution_count": null,
   "id": "2b64dfe5-c62c-451b-9303-e4ed533f13ac",
   "metadata": {},
   "outputs": [],
   "source": []
  }
 ],
 "metadata": {
  "kernelspec": {
   "display_name": "Python 3 (ipykernel)",
   "language": "python",
   "name": "python3"
  },
  "language_info": {
   "codemirror_mode": {
    "name": "ipython",
    "version": 3
   },
   "file_extension": ".py",
   "mimetype": "text/x-python",
   "name": "python",
   "nbconvert_exporter": "python",
   "pygments_lexer": "ipython3",
   "version": "3.11.8"
  }
 },
 "nbformat": 4,
 "nbformat_minor": 5
}
