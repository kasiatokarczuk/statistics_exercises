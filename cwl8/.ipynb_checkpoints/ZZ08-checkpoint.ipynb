{
 "cells": [
  {
   "cell_type": "markdown",
   "id": "5ca9e398",
   "metadata": {
    "deletable": false,
    "editable": false,
    "nbgrader": {
     "cell_type": "markdown",
     "checksum": "ff0bc2c9546dc7416a62ab1f8e86fe5a",
     "grade": false,
     "grade_id": "cell-fcd2666579131b77",
     "locked": true,
     "schema_version": 3,
     "solution": false,
     "task": false
    },
    "tags": []
   },
   "source": [
    "# Statystyka matematyczna - ćwiczenia laboratoryjne 2023/2024\n",
    "\n",
    "Ten notatnik zalicza się do grupy zestawów zadań, na podstawie których odbywa się zaliczenie ćwiczeń i podlega zwrotowi do oceny w ustalonym na zajęciach terminie.\n",
    "\n",
    "Uwagi i wytyczne ogólne dotyczące uzupełniania notatnika:\n",
    "- Podczas wykonywania zadań należy korzystać wyłącznie z pakietów zaimportowanych na początku notatnika oraz z pakietów wchodzących w skład standardowej biblioteki Pythona, które można zaimportować samodzielnie we wskazanej komórce notatnika.\n",
    "- Swoje rozwiązania należy wprowadzać wyłącznie w miejce następujących fragmentów kodu:<br/> `# YOUR CODE HERE`<br/> `raise NotImplementedError()`<br/> \n",
    "a odpowiedzi tekstowe w komórkach oznaczonych hasłem:<br/> \n",
    "`YOUR ANSWER HERE`<br/> \n",
    "Nie należy w żaden sposób modyfikować pozostałych fragmentów kodu oraz innych elementów notatnika, w szczególności dodawać lub usuwać komórek oraz zmieniać nazwy pliku.\n",
    "- Otrzymywane wyniki i odpowiedzi mają być rezultatem wykonania napisanego kodu.\n",
    "- Zadanie należy wykonać w taki sposób, aby podczas wykonywania kodu nie zostały wyświetlone żadne ostrzeżenia.\n",
    "- Zawarte w notatniku automatyczne testy mają charakter poglądowy. Dotyczą one wybranych aspektów zadań i mają za zadanie wyłapać podstawowe błędy. Przejście wszystkich testów nie oznacza, że zadanie jest wykonane w całości poprawnie.\n",
    "\n",
    "Uwagi i wytyczne ogólne dotyczące wizualizacji wyników:\n",
    "- Wszystkie wykresy powinny być wykonane w jednolitym, przejrzystym i czytelnym stylu, posiadać odpowiednio dobrane proporcje i zakresy wartości osi.\n",
    "- Wykresy oraz ich osie powinny mieć nadane tytuły. Jeżeli w obrębie figury znajduje się więcej niż jeden wykres to figura również powinna mieć nadany tytuł. \n",
    "- Figury powinny mieć ustawione białe tło, tak, aby niezależnie od ustawień notatnika wszystkie elementy wykresów były dobrze widoczne (domyślnie tło jest przeźroczyste co może powodować problemy w notatnikach z ustawionym ciemnym tłem).\n",
    "- Rozmiar poziomy figur nie powinien przekraczać 20 cali.\n",
    "\n",
    "Przed odesłaniem zestawu zadań do oceny proszę uzupełnić komórkę z danymi autorów rozwiązania (nazwa zespołu oraz imiona, nazwiska i numery indeksów członków zespołu) oraz upewnić się, że notatnik działa zgodnie z oczekiwaniami. W tym celu należy skorzystać z opcji **Restart Kernel and Run All Cells...** dostępnej na górnej belce notatnika pod symbolem $\\blacktriangleright\\blacktriangleright$."
   ]
  },
  {
   "cell_type": "markdown",
   "id": "dcc7567d",
   "metadata": {},
   "source": [
    "Nazwa zespołu: 2.38 Członkowie: Roksana Jandura 416314, Katarzyna Wesołwoska 415124, Katarzyna Tokarczuk 415787, Magdalena Pogorzelec 417858"
   ]
  },
  {
   "cell_type": "markdown",
   "id": "ce65862d",
   "metadata": {
    "deletable": false,
    "editable": false,
    "nbgrader": {
     "cell_type": "markdown",
     "checksum": "eddc8826810e4a6f7bf68319da334bd9",
     "grade": false,
     "grade_id": "cell-109006d425e5cf83",
     "locked": true,
     "schema_version": 3,
     "solution": false,
     "task": false
    },
    "tags": []
   },
   "source": [
    "---"
   ]
  },
  {
   "cell_type": "markdown",
   "id": "b8f95570-83b1-4122-baf4-37641f18858e",
   "metadata": {
    "deletable": false,
    "editable": false,
    "nbgrader": {
     "cell_type": "markdown",
     "checksum": "a0a27f63ce14fd2328391f1fcc116f75",
     "grade": false,
     "grade_id": "cell-6169d01990212ad1",
     "locked": true,
     "points": 0,
     "schema_version": 3,
     "solution": false,
     "task": true
    },
    "tags": []
   },
   "source": [
    "# Zestaw zadań 8: Estymacja metodą bootstrap"
   ]
  },
  {
   "cell_type": "code",
   "execution_count": 1,
   "id": "646fa13e-8152-4056-b84a-2e978470994e",
   "metadata": {
    "deletable": false,
    "editable": false,
    "nbgrader": {
     "cell_type": "code",
     "checksum": "51f5ac8b2993613a422ba60fac73d72b",
     "grade": false,
     "grade_id": "cell-ca233643775cd1c6",
     "locked": true,
     "schema_version": 3,
     "solution": false,
     "task": false
    },
    "tags": []
   },
   "outputs": [],
   "source": [
    "import numpy as np\n",
    "import pandas as pd\n",
    "import scipy as sp\n",
    "import matplotlib as mpl\n",
    "import matplotlib.pyplot as plt\n",
    "import seaborn as sns"
   ]
  },
  {
   "cell_type": "code",
   "execution_count": 2,
   "id": "4836be39-0c82-432c-a21b-d8372dc85cb3",
   "metadata": {},
   "outputs": [],
   "source": [
    "# Miejsce do importu pakietów wchodzących w skład standardowej biblioteki Pythona oraz ustawienie opcji wykorzystywanych pakietów"
   ]
  },
  {
   "cell_type": "markdown",
   "id": "11a84b13-b029-47fb-bc74-250a88b7efdc",
   "metadata": {
    "deletable": false,
    "editable": false,
    "nbgrader": {
     "cell_type": "markdown",
     "checksum": "87e9deedf72cc88c6dcb81a7cce8cf70",
     "grade": false,
     "grade_id": "cell-779efb5f5cf8863f",
     "locked": true,
     "schema_version": 3,
     "solution": false,
     "task": false
    },
    "tags": []
   },
   "source": [
    "### Dane do zadań\n",
    "\n",
    "W celu wygenerowania danych wykorzystywanych w zawartych w notatniku zadaniach i komórkach testowych wykonaj obie poniższe komórki."
   ]
  },
  {
   "cell_type": "code",
   "execution_count": 3,
   "id": "580148b7-c8cf-43be-a911-5586cfc810fb",
   "metadata": {
    "deletable": false,
    "editable": false,
    "nbgrader": {
     "cell_type": "code",
     "checksum": "37e71a378035f829c07219da3672ae17",
     "grade": false,
     "grade_id": "cell-e1ec765c1f0cf3b4",
     "locked": true,
     "schema_version": 3,
     "solution": false,
     "task": false
    },
    "tags": []
   },
   "outputs": [
    {
     "data": {
      "text/html": [
       "<div>\n",
       "<style scoped>\n",
       "    .dataframe tbody tr th:only-of-type {\n",
       "        vertical-align: middle;\n",
       "    }\n",
       "\n",
       "    .dataframe tbody tr th {\n",
       "        vertical-align: top;\n",
       "    }\n",
       "\n",
       "    .dataframe thead th {\n",
       "        text-align: right;\n",
       "    }\n",
       "</style>\n",
       "<table border=\"1\" class=\"dataframe\">\n",
       "  <thead>\n",
       "    <tr style=\"text-align: right;\">\n",
       "      <th></th>\n",
       "      <th>X</th>\n",
       "    </tr>\n",
       "  </thead>\n",
       "  <tbody>\n",
       "    <tr>\n",
       "      <th>0</th>\n",
       "      <td>5.338105</td>\n",
       "    </tr>\n",
       "    <tr>\n",
       "      <th>1</th>\n",
       "      <td>4.906813</td>\n",
       "    </tr>\n",
       "    <tr>\n",
       "      <th>2</th>\n",
       "      <td>5.006564</td>\n",
       "    </tr>\n",
       "    <tr>\n",
       "      <th>3</th>\n",
       "      <td>5.081503</td>\n",
       "    </tr>\n",
       "    <tr>\n",
       "      <th>4</th>\n",
       "      <td>4.842215</td>\n",
       "    </tr>\n",
       "  </tbody>\n",
       "</table>\n",
       "</div>"
      ],
      "text/plain": [
       "          X\n",
       "0  5.338105\n",
       "1  4.906813\n",
       "2  5.006564\n",
       "3  5.081503\n",
       "4  4.842215"
      ]
     },
     "execution_count": 3,
     "metadata": {},
     "output_type": "execute_result"
    }
   ],
   "source": [
    "sample_1 = pd.DataFrame(data=sp.stats.norm.rvs(loc=5, scale=0.2, size=20, random_state=7), columns=[\"X\"])\n",
    "sample_1.head()"
   ]
  },
  {
   "cell_type": "code",
   "execution_count": 4,
   "id": "36be41fa-021c-46ec-9a7d-898bcb943a93",
   "metadata": {
    "deletable": false,
    "editable": false,
    "nbgrader": {
     "cell_type": "code",
     "checksum": "1e0772dc740b7368455ca7a4ba570521",
     "grade": false,
     "grade_id": "cell-98d7d5f10a0f1a66",
     "locked": true,
     "schema_version": 3,
     "solution": false,
     "task": false
    },
    "tags": []
   },
   "outputs": [
    {
     "data": {
      "text/html": [
       "<div>\n",
       "<style scoped>\n",
       "    .dataframe tbody tr th:only-of-type {\n",
       "        vertical-align: middle;\n",
       "    }\n",
       "\n",
       "    .dataframe tbody tr th {\n",
       "        vertical-align: top;\n",
       "    }\n",
       "\n",
       "    .dataframe thead th {\n",
       "        text-align: right;\n",
       "    }\n",
       "</style>\n",
       "<table border=\"1\" class=\"dataframe\">\n",
       "  <thead>\n",
       "    <tr style=\"text-align: right;\">\n",
       "      <th></th>\n",
       "      <th>X</th>\n",
       "      <th>Y</th>\n",
       "    </tr>\n",
       "  </thead>\n",
       "  <tbody>\n",
       "    <tr>\n",
       "      <th>0</th>\n",
       "      <td>-1.614383</td>\n",
       "      <td>-9.653548</td>\n",
       "    </tr>\n",
       "    <tr>\n",
       "      <th>1</th>\n",
       "      <td>5.801005</td>\n",
       "      <td>8.109542</td>\n",
       "    </tr>\n",
       "    <tr>\n",
       "      <th>2</th>\n",
       "      <td>-1.072962</td>\n",
       "      <td>-7.234931</td>\n",
       "    </tr>\n",
       "    <tr>\n",
       "      <th>3</th>\n",
       "      <td>4.328927</td>\n",
       "      <td>4.561478</td>\n",
       "    </tr>\n",
       "    <tr>\n",
       "      <th>4</th>\n",
       "      <td>-1.861092</td>\n",
       "      <td>-6.031980</td>\n",
       "    </tr>\n",
       "  </tbody>\n",
       "</table>\n",
       "</div>"
      ],
      "text/plain": [
       "          X         Y\n",
       "0 -1.614383 -9.653548\n",
       "1  5.801005  8.109542\n",
       "2 -1.072962 -7.234931\n",
       "3  4.328927  4.561478\n",
       "4 -1.861092 -6.031980"
      ]
     },
     "execution_count": 4,
     "metadata": {},
     "output_type": "execute_result"
    }
   ],
   "source": [
    "x = sp.stats.uniform.rvs(loc=-2, scale=10, size=25, random_state=34)\n",
    "y = 2*x - 5 + sp.stats.norm.rvs(loc=0, scale=2, size=25, random_state=13)\n",
    "sample_2 = pd.DataFrame(data=np.array([x, y]).T, columns=[\"X\", \"Y\"])\n",
    "sample_2.head()"
   ]
  },
  {
   "cell_type": "markdown",
   "id": "0a4cb14c-3960-487c-94ff-101595708d08",
   "metadata": {
    "deletable": false,
    "editable": false,
    "nbgrader": {
     "cell_type": "markdown",
     "checksum": "9f2d7c95bf4a7cc0a3af059b16d5e34e",
     "grade": false,
     "grade_id": "cell-bddafde94bb9c984",
     "locked": true,
     "schema_version": 3,
     "solution": false,
     "task": false
    },
    "tags": []
   },
   "source": [
    "### Zadanie 1: Estymacja bootstapowa parametrów próby losowej [8 pkt]\n",
    "\n",
    "Przygotuj funkcję `bootstrap_parameter_estimation()`, która korzystając z metody bootstrap będzie dokonywała estymacji przedziałowej podstawowych parametrów próby losowej - wartości oczekiwanej, wariancji i odchylenia standardowego dla danych wejściowych w postaci szeregu szczegółowego zgodnie ze schematem z załączonego do notatnika zestawu wzorów.\n",
    "\n",
    "W obliczeniach skorzystaj z nieobciążonych estymatorów wariancji i odchylenia standardowego.\n",
    "\n",
    "Oprócz zwracanych wartości granic przedziału funkcja powinna wyświetlać następujący komunikat:\n",
    "\n",
    "`P należy do przedziału [X, Y] przy założeniu poziomu ufności 1-𝛼 = Z`\n",
    "\n",
    "gdzie P (symbol lub nazwa estymowanego parametru), X, Y i Z są automatycznie uzupełniane przez funkcję, a X i Y dodatkowo sformatowane w taki sposób, żeby wyświetlały się z dokładnością do 4 miejsc po przecinku.\n",
    "\n",
    "Uwagi do wykonania zadania:\n",
    " - Automatyczne testy zakładają losowanie prób wg następującego schematu - kolejne próby są losowane w pęli for, a funkcja losująca próbę (np. `pd.sample()`) w kolejnych losowaniach ma ustawioną wartość parametru odpowiadającego za ziarno generatora liczb losowych na wartość `random_state`, `random_state+1`, `random_state+2` itd. \n",
    " - Celem zadania jest napisanie funkcji od podstaw, w rozwiązaniu nie należy korzystać z gotowych funkcji służących do estymacji bootstrapowej."
   ]
  },
  {
   "cell_type": "code",
   "execution_count": 5,
   "id": "ee4aac17-eb91-4a7d-8bb7-2b36516c6181",
   "metadata": {
    "deletable": false,
    "nbgrader": {
     "cell_type": "code",
     "checksum": "a49dbd76f901907512b0e70dd9f61ae8",
     "grade": false,
     "grade_id": "cell-618e12c8ffef0965",
     "locked": false,
     "schema_version": 3,
     "solution": true,
     "task": false
    },
    "tags": []
   },
   "outputs": [],
   "source": [
    "def bootstrap_parameter_estimation(data, parameter, number_of_samples, alpha, random_state):\n",
    "    \"\"\"\n",
    "    Parameters\n",
    "    -------\n",
    "    data: DataFrame\n",
    "        Tablica zawierająca domyślny indeks i pojedynczą kolumnę \"X\" z wartościami próby losowej.\n",
    "    parameter: str\n",
    "        W zależności od estymowanego parametru przyjmuje wartość \"mean\", \"var\" lub \"std\".\n",
    "    number_of_samples: int\n",
    "        Liczba prób bootstrapowych.\n",
    "    alpha: float\n",
    "        Wartość określająca poziom istotności.\n",
    "    random_state: int\n",
    "        Ziarno generatora liczb pseudolosowych.\n",
    "    \n",
    "    Returns\n",
    "    -------\n",
    "    parameter_low: float\n",
    "        Dolna granica wyliczonego przedziału ufności.\n",
    "    parameter_high: float\n",
    "        Górna granica wyliczonego przedziału ufności.\n",
    "    \"\"\"       \n",
    "    estimates = [] #lista z mean,var,std dla kazdej próby bo0otstrap\n",
    "    #pętla d losowania kolejnych prób\n",
    "    for i in range(number_of_samples):\n",
    "        #ziarno generatora liczb losowych zwieksza sie za kazda iteracją0\n",
    "        sample = data.sample(n=len(data), replace=True, random_state=random_state + i)\n",
    "        \n",
    "        if parameter == \"mean\":\n",
    "            est = sample['X'].mean()\n",
    "        elif parameter == \"var\":\n",
    "            est = sample['X'].var(ddof=1) #ddof=1 bo nieobciążony estymator wariancji\n",
    "        elif parameter == \"std\":\n",
    "            est = sample['X'].std(ddof=1) #ddof=1 bo nieobciążony estymator std\n",
    "        estimates.append(est) #dodaje  obliczona wartosc do listy\n",
    "    \n",
    "    lower_percentile = 100 * (alpha / 2) #dolny procentyl\n",
    "    upper_percentile = 100 * (1 - alpha / 2) #górny percentyl\n",
    "    parameter_low = np.percentile(estimates, lower_percentile) #dolna granica\n",
    "    parameter_high = np.percentile(estimates, upper_percentile) #górna granica\n",
    "    \n",
    "    Z = 1 - alpha #poziom ufności\n",
    "    print(f\"{parameter} należy do przedziału [{parameter_low:.4f}, {parameter_high:.4f}] przy założeniu poziomu ufności 1-α = {Z}\")\n",
    "    \n",
    "    return parameter_low, parameter_high\n"
   ]
  },
  {
   "cell_type": "code",
   "execution_count": 6,
   "id": "848e11dd-c2fd-402d-b2d9-3edeb3002c63",
   "metadata": {
    "deletable": false,
    "editable": false,
    "nbgrader": {
     "cell_type": "code",
     "checksum": "c4875c68b68cbda4f874933c4628d2f6",
     "grade": true,
     "grade_id": "cell-eab0d556900c97d4",
     "locked": true,
     "points": 8,
     "schema_version": 3,
     "solution": false,
     "task": false
    },
    "tags": []
   },
   "outputs": [
    {
     "name": "stdout",
     "output_type": "stream",
     "text": [
      "mean należy do przedziału [4.9136, 5.0586] przy założeniu poziomu ufności 1-α = 0.95\n",
      "var należy do przedziału [0.0098, 0.0501] przy założeniu poziomu ufności 1-α = 0.98\n",
      "std należy do przedziału [0.1185, 0.2069] przy założeniu poziomu ufności 1-α = 0.9\n"
     ]
    }
   ],
   "source": [
    "# Komórka testowa\n",
    "assert np.all(np.isclose(bootstrap_parameter_estimation(sample_1, \"mean\", 1000, 0.05, 34), (4.913578501079754, 5.058598650238277)))\n",
    "assert np.all(np.isclose(bootstrap_parameter_estimation(sample_1, \"var\", 2000, 0.02, 31), (0.009780029754528753, 0.05012098474121563)))\n",
    "assert np.all(np.isclose(bootstrap_parameter_estimation(sample_1, \"std\", 1500, 0.1, 39), (0.11848597559111698, 0.20690074715252046)))"
   ]
  },
  {
   "cell_type": "markdown",
   "id": "6cb281ab-6a1f-4c74-aabb-dd05e021d39a",
   "metadata": {
    "deletable": false,
    "editable": false,
    "nbgrader": {
     "cell_type": "markdown",
     "checksum": "e55acecf1eeecf138fb48607b92cf8b6",
     "grade": false,
     "grade_id": "cell-b047c9b13c57ea98",
     "locked": true,
     "schema_version": 3,
     "solution": false,
     "task": false
    },
    "tags": []
   },
   "source": [
    "### Zadanie 2: Estymacja bootstrapowa wartości współczynnika korelacji liniowej [4 pkt]\n",
    "\n",
    "Przygotuj funkcję `bootstrap_correlation_estimation()`, która korzystając z metody bootstrap będzie dokonywała estymacji przedziałowej wartości współczynnika korelacji liniowej Pearsona dla danych wejściowych w postaci szeregu szczegółowego zgodnie ze schematem z załączonego do notatnika zestawu wzorów.\n",
    "\n",
    "Oprócz zwracanych wartości granic przedziału funkcja powinna wyświetlać następujący komunikat:\n",
    "\n",
    "`r należy do przedziału [X, Y] przy założeniu poziomu ufności 1-𝛼 = Z`\n",
    "\n",
    "gdzie X, Y i Z są automatycznie uzupełniane przez funkcję, a X i Y dodatkowo sformatowane w taki sposób, żeby wyświetlały się z dokładnością do 4 miejsc po przecinku.\n",
    "\n",
    "Uwagi do wykonania zadania:\n",
    " - Automatyczne testy zakładają losowanie prób wg następującego schematu - kolejne próby są losowane w pęli for, a funkcja losująca próbę (np. `pd.sample()`) w kolejnych losowaniach ma ustawioną wartość parametru odpowiadającego za ziarno generatora liczb losowych na wartość `random_state`, `random_state+1`, `random_state+2` itd. \n",
    " - Celem zadania jest napisanie funkcji od podstaw, w rozwiązaniu nie należy korzystać z gotowych funkcji służących do estymacji bootstrapowej."
   ]
  },
  {
   "cell_type": "code",
   "execution_count": 9,
   "id": "86aff572-d602-4fc8-b29b-cbeb05d49607",
   "metadata": {
    "deletable": false,
    "nbgrader": {
     "cell_type": "code",
     "checksum": "54bc2208e3aeebab384f9d2b19d1ce38",
     "grade": false,
     "grade_id": "cell-d785d7ff406d589d",
     "locked": false,
     "schema_version": 3,
     "solution": true,
     "task": false
    },
    "tags": []
   },
   "outputs": [],
   "source": [
    "def bootstrap_correlation_estimation(data, number_of_samples, alpha, random_state):\n",
    "    \"\"\"\n",
    "    Parameters\n",
    "    -------\n",
    "    data: DataFrame\n",
    "        Tablica zawierająca domyślny indeks i dwie kolumny \"X\" i \"Y\" z wynikami próby losowej.\n",
    "    number_of_samples: int\n",
    "        Liczba prób bootstrapowych.\n",
    "    alpha: float\n",
    "        Wartość określająca poziom istotności.\n",
    "    random_state: int\n",
    "        Ziarno generatora liczb pseudolosowych.\n",
    "    \n",
    "    Returns\n",
    "    -------\n",
    "    r_corr_low: float\n",
    "        Dolna granica wyliczonego przedziału ufności.\n",
    "    r_corr_high: float\n",
    "        Górna granica wyliczonego przedziału ufności.\n",
    "    \"\"\"\n",
    "    # YOUR CODE HERE\n",
    "    x = data['X']\n",
    "    y = data['Y']\n",
    "\n",
    "    # współczynniki korelacji z prób bootstrapowych\n",
    "    bootstrap_correlations = []\n",
    "\n",
    "    for i in range(number_of_samples):\n",
    "        bootstrap_sample = data.sample(n=len(data), replace=True, random_state=random_state + i)\n",
    "        correlation, _ = sp.stats.pearsonr(bootstrap_sample['X'], bootstrap_sample['Y'])\n",
    "        bootstrap_correlations.append(correlation)\n",
    "\n",
    "    bootstrap_correlations = sorted(bootstrap_correlations)\n",
    "\n",
    "    lower_index = 100 * (alpha / 2)\n",
    "    upper_index = 100 * (1 - alpha / 2)\n",
    "\n",
    "    r_corr_low = np.percentile(bootstrap_correlations, lower_index)\n",
    "    r_corr_high =  np.percentile(bootstrap_correlations, upper_index)\n",
    "    \n",
    "    confidence_level = 1 - alpha\n",
    "\n",
    "    print(f\"r należy do przedziału [{r_corr_low:.4f}, {r_corr_high:.4f}] przy założeniu poziomu ufności 1-𝛼 = {confidence_level:.2f}\")\n",
    "\n",
    "    return r_corr_low, r_corr_high"
   ]
  },
  {
   "cell_type": "code",
   "execution_count": 10,
   "id": "fa08d988-f38f-4aec-a9d2-fbff31c8f236",
   "metadata": {
    "deletable": false,
    "editable": false,
    "nbgrader": {
     "cell_type": "code",
     "checksum": "c8681b8d5863c6226a9ea8d0855c0e8d",
     "grade": true,
     "grade_id": "cell-4dfca86f32f1359a",
     "locked": true,
     "points": 4,
     "schema_version": 3,
     "solution": false,
     "task": false
    },
    "tags": []
   },
   "outputs": [
    {
     "name": "stdout",
     "output_type": "stream",
     "text": [
      "r należy do przedziału [0.9292, 0.9816] przy założeniu poziomu ufności 1-𝛼 = 0.95\n",
      "r należy do przedziału [0.9171, 0.9841] przy założeniu poziomu ufności 1-𝛼 = 0.98\n"
     ]
    }
   ],
   "source": [
    "# Komórka testowa\n",
    "assert np.all(np.isclose(bootstrap_correlation_estimation(sample_2, 1200, 0.05, 54), (0.9292256084679922, 0.9816422271248535)))\n",
    "assert np.all(np.isclose(bootstrap_correlation_estimation(sample_2, 1500, 0.02, 14), (0.9171033819425604, 0.9840550768251518)))"
   ]
  },
  {
   "cell_type": "markdown",
   "id": "8163fcd8-3f08-4dbe-b30d-72083c6f5e88",
   "metadata": {
    "deletable": false,
    "editable": false,
    "nbgrader": {
     "cell_type": "markdown",
     "checksum": "a63525b262b845b4182bb285b3aed30a",
     "grade": false,
     "grade_id": "cell-c8eb55477ab1a574",
     "locked": true,
     "schema_version": 3,
     "solution": false,
     "task": false
    },
    "tags": []
   },
   "source": [
    "### Zadanie 3: Estymacja bootstrapowa współczynników równania regresji liniowej [6 pkt]\n",
    "\n",
    "Przygotuj funkcję `bootstrap_linear_regression_coefficients_estimation()`, która korzystając z metody bootstrap będzie dokonywała estymacji przedziałowej wartości współczynników równania regresji liniowej dla danych wejściowych w postaci szeregu szczegółowego zgodnie ze schematem z załączonego do notatnika zestawu wzorów.\n",
    "\n",
    "Oprócz zwracanych wartości granic przedziału funkcja powinna wyświetlać następujący komunikat:\n",
    "\n",
    "`a należy do przedziału [X1, Y1] przy założeniu poziomu ufności 1-𝛼 = Z1` </br>\n",
    "`b należy do przedziału [X2, Y2] przy założeniu poziomu ufności 1-𝛼 = Z2`\n",
    "\n",
    "gdzie X1, X2, Y1, Y2, Z1 i Z2 są automatycznie uzupełniane przez funkcję, a X1, X2, Y1 i Y2 dodatkowo sformatowane w taki sposób, żeby wyświetlały się z dokładnością do 4 miejsc po przecinku.\n",
    "\n",
    "Uwagi do wykonania zadania:\n",
    " - Automatyczne testy zakładają losowanie prób wg następującego schematu - kolejne próby są losowane w pęli for, a funkcja losująca próbę (np. `pd.sample()`) w kolejnych losowaniach ma ustawioną wartość parametru odpowiadającego za ziarno generatora liczb losowych na wartość `random_state`, `random_state+1`, `random_state+2` itd. \n",
    " - Celem zadania jest napisanie funkcji od podstaw, w rozwiązaniu nie należy korzystać z gotowych funkcji służących do estymacji bootstrapowej."
   ]
  },
  {
   "cell_type": "code",
   "execution_count": 11,
   "id": "227ed223-7067-4a18-af15-f97b318b2d63",
   "metadata": {
    "deletable": false,
    "nbgrader": {
     "cell_type": "code",
     "checksum": "907932e1028c76110b35a9dfd7434163",
     "grade": false,
     "grade_id": "cell-03ff8749dfe56b09",
     "locked": false,
     "schema_version": 3,
     "solution": true,
     "task": false
    },
    "tags": []
   },
   "outputs": [],
   "source": [
    "def bootstrap_linear_regression_coefficients_estimation(data, number_of_samples, alpha, random_state):\n",
    "    \"\"\"\n",
    "    Parameters\n",
    "    -------\n",
    "    data: DataFrame\n",
    "        Tablica zawierająca domyślny indeks i dwie kolumny \"X\" i \"Y\" z wynikami próby losowej.\n",
    "    number_of_samples: int\n",
    "        Liczba prób bootstrapowych.\n",
    "    alpha: float\n",
    "        Wartość określająca poziom istotności.\n",
    "    random_state: int\n",
    "        Ziarno generatora liczb pseudolosowych.\n",
    "    \n",
    "    Returns\n",
    "    -------\n",
    "    a_ci: tuple\n",
    "        Zmienna typu tuple zawierajaca granice przedziału ufności parametru a (a_low, a_high).\n",
    "    b_ci: tuple\n",
    "        Zmienna typu tuple zawierajaca granice przedziału ufności parametru b (b_low, b_high).\n",
    "    \"\"\"            \n",
    "    # YOUR CODE HERE\n",
    "    #raise NotImplementedError()\n",
    "\n",
    "    a_samples = []\n",
    "    b_samples = []\n",
    "\n",
    "    for i in range(number_of_samples):\n",
    "        # Losuowanie próbki ze zwracaniem\n",
    "        bootstrap_sample = data.sample(n=len(data), replace=True, random_state=random_state + i)\n",
    "        \n",
    "        # średnie X i Y\n",
    "        mean_x = bootstrap_sample['X'].mean()\n",
    "        mean_y = bootstrap_sample['Y'].mean()\n",
    "        \n",
    "        # współczynnik kierunkowy a\n",
    "        licznik = np.sum((bootstrap_sample['X'] - mean_x) * (bootstrap_sample['Y'] - mean_y))\n",
    "        mianownik = np.sum((bootstrap_sample['X'] - mean_x) ** 2)\n",
    "        a = licznik / mianownik\n",
    "        \n",
    "        # stała b\n",
    "        b = mean_y - a * mean_x\n",
    "        \n",
    "        a_samples.append(a)  # Współczynnik kierunkowy\n",
    "        b_samples.append(b)  # Stała (przecięcie z osią Y)\n",
    "\n",
    "    # Obliczanie przedziałów ufności\n",
    "    a_low = np.percentile(a_samples, alpha * 100 / 2 )\n",
    "    a_high = np.percentile(a_samples, 100 * (1 - alpha / 2))\n",
    "    \n",
    "    b_low = np.percentile(b_samples, alpha * 100 / 2 )\n",
    "    b_high = np.percentile(b_samples, 100 * (1 - alpha / 2))\n",
    "\n",
    "     # Poziom ufności\n",
    "    confidence_level = 1 - alpha\n",
    "    \n",
    "    print(f\"a należy do przedziału [{a_low:.4f}, {a_high:.4f}] przy założeniu poziomu ufności 1-𝛼 = {confidence_level}\")\n",
    "    print(f\"b należy do przedziału [{b_low:.4f}, {b_high:.4f}] przy założeniu poziomu ufności 1-𝛼 = {confidence_level}\")\n",
    "   \n",
    "\n",
    "    return (a_low, a_high), (b_low, b_high)"
   ]
  },
  {
   "cell_type": "code",
   "execution_count": 12,
   "id": "5d10f729-8a39-41cf-a9e5-cba4660dee5e",
   "metadata": {
    "deletable": false,
    "editable": false,
    "nbgrader": {
     "cell_type": "code",
     "checksum": "3e3c2612109488e2e806cac33a7cd216",
     "grade": true,
     "grade_id": "cell-0febc4ee671ad799",
     "locked": true,
     "points": 6,
     "schema_version": 3,
     "solution": false,
     "task": false
    },
    "tags": []
   },
   "outputs": [
    {
     "name": "stdout",
     "output_type": "stream",
     "text": [
      "a należy do przedziału [1.8361, 2.2918] przy założeniu poziomu ufności 1-𝛼 = 0.95\n",
      "b należy do przedziału [-5.5755, -3.6854] przy założeniu poziomu ufności 1-𝛼 = 0.95\n",
      "\n",
      "a należy do przedziału [1.7965, 2.3372] przy założeniu poziomu ufności 1-𝛼 = 0.98\n",
      "b należy do przedziału [-5.7712, -3.4812] przy założeniu poziomu ufności 1-𝛼 = 0.98\n"
     ]
    }
   ],
   "source": [
    "# Komórka testowa\n",
    "assert np.all(np.isclose(bootstrap_linear_regression_coefficients_estimation(sample_2, 1800, 0.05, 71), ((1.8361393329086446, 2.2918023790827124), (-5.575502208944547, -3.6854174758043574))))\n",
    "print()\n",
    "assert np.all(np.isclose(bootstrap_linear_regression_coefficients_estimation(sample_2, 2100, 0.02, 62), ((1.7964929430496048, 2.337236979144576), (-5.771238137193083, -3.481203748551042))))"
   ]
  },
  {
   "cell_type": "markdown",
   "id": "66d6df14-6660-4f13-83b0-2c906ae01ef0",
   "metadata": {
    "deletable": false,
    "editable": false,
    "nbgrader": {
     "cell_type": "markdown",
     "checksum": "c2a44fab6e410ddd3f4d44d9aaae0bd8",
     "grade": false,
     "grade_id": "cell-27525af82426dfb2",
     "locked": true,
     "schema_version": 3,
     "solution": false,
     "task": false
    },
    "tags": []
   },
   "source": [
    "### Zadanie 4: Estymacja bootstrapowa za pomocą dedykowanych funkcji [7 pkt]\n",
    "\n",
    "Korzystając z funkcji `scipy.stats.bootstrap()` dokonaj estymacji przedziałowej następujących parametrów na poziomie istotności 1-alpha = 0.98:\n",
    " - na podstawie zmiennej `sample_1`: średnia, wariancja, odchylenie standardowe,\n",
    " - na podstawie zmiannej `sample_2`: współczynnik korelacji liniowej Pearsona, współczynniki równania regresji liniowej a i b.\n",
    " \n",
    "Wyniki zapisz do zmiennych o nazwach `mean_ci`, `var_ci`, `std_ci`, `r_ci`, `a_ci` oraz `b_ci` zawierających listy z dolnymi i górnymi granicami przedziałów ufności. Podczas obliczania wartości każdego z parametrów ustaw wartość argumentu funkcji `scipy.stats.bootstrap()` odpowiadającego za ziarno generatora liczb losowych na 25.\n",
    "\n",
    "Uwagi do wykonania zadania:\n",
    " - Automatyczne testy przewidują obliczenie wartości wariancji i odchylenia standardowego dla wartości parametru `ddof=0`."
   ]
  },
  {
   "cell_type": "code",
   "execution_count": 17,
   "id": "1ac37ca1-f634-4edb-bf09-766dba6b1748",
   "metadata": {
    "deletable": false,
    "nbgrader": {
     "cell_type": "code",
     "checksum": "dc1f11773892876bf6ebe8f31bff9048",
     "grade": false,
     "grade_id": "cell-5028ed987941ac51",
     "locked": false,
     "schema_version": 3,
     "solution": true,
     "task": false
    },
    "tags": []
   },
   "outputs": [
    {
     "data": {
      "text/plain": [
       "[4.890098551749027, 5.063500727815335]"
      ]
     },
     "execution_count": 17,
     "metadata": {},
     "output_type": "execute_result"
    }
   ],
   "source": [
    "# mean\n",
    "boot_strap = sp.stats.bootstrap((sample_1[\"X\"],), statistic=np.mean, confidence_level=0.98, random_state=25)\n",
    "\n",
    "mean_ci = [boot_strap.confidence_interval[0], boot_strap.confidence_interval[1]]\n",
    "mean_ci"
   ]
  },
  {
   "cell_type": "code",
   "execution_count": 18,
   "id": "e5d1906c-57ca-4d86-ae85-00c6e5951209",
   "metadata": {
    "deletable": false,
    "nbgrader": {
     "cell_type": "code",
     "checksum": "100623ffb854c150b3c6327385694ae7",
     "grade": false,
     "grade_id": "cell-1b6eb85e5b1da27a",
     "locked": false,
     "schema_version": 3,
     "solution": true,
     "task": false
    },
    "tags": []
   },
   "outputs": [
    {
     "data": {
      "text/plain": [
       "[0.013001391902892368, 0.05670851692597062]"
      ]
     },
     "execution_count": 18,
     "metadata": {},
     "output_type": "execute_result"
    }
   ],
   "source": [
    "# var\n",
    "boot_strap = sp.stats.bootstrap((sample_1[\"X\"],), statistic=np.var, confidence_level=0.98, random_state=25)\n",
    "\n",
    "var_ci = [boot_strap.confidence_interval[0], boot_strap.confidence_interval[1]]\n",
    "var_ci"
   ]
  },
  {
   "cell_type": "code",
   "execution_count": 19,
   "id": "6126c666-5b1c-4b50-926e-29e07e2def2e",
   "metadata": {
    "deletable": false,
    "nbgrader": {
     "cell_type": "code",
     "checksum": "21ac2ba1c0d37f9c6b1a03d275dd6536",
     "grade": false,
     "grade_id": "cell-7fa6f2c46b14d185",
     "locked": false,
     "schema_version": 3,
     "solution": true,
     "task": false
    },
    "tags": []
   },
   "outputs": [
    {
     "data": {
      "text/plain": [
       "[0.11423521149909441, 0.23829111055240196]"
      ]
     },
     "execution_count": 19,
     "metadata": {},
     "output_type": "execute_result"
    }
   ],
   "source": [
    "# std\n",
    "boot_strap = sp.stats.bootstrap((sample_1[\"X\"],), statistic=np.std, confidence_level=0.98, random_state=25)\n",
    "\n",
    "std_ci = [boot_strap.confidence_interval[0], boot_strap.confidence_interval[1]]\n",
    "std_ci"
   ]
  },
  {
   "cell_type": "code",
   "execution_count": 20,
   "id": "01d91d9f-3cc3-4522-828d-4cc828464c31",
   "metadata": {
    "deletable": false,
    "nbgrader": {
     "cell_type": "code",
     "checksum": "c60e0354f6c6b64c8a5f715308c8de07",
     "grade": false,
     "grade_id": "cell-185444e7b6b077c2",
     "locked": false,
     "schema_version": 3,
     "solution": true,
     "task": false
    },
    "tags": []
   },
   "outputs": [
    {
     "data": {
      "text/plain": [
       "[0.9156715777126913, 0.9822743695601275]"
      ]
     },
     "execution_count": 20,
     "metadata": {},
     "output_type": "execute_result"
    }
   ],
   "source": [
    "# r\n",
    "def corr_p(x, y):\n",
    "    return sp.stats.pearsonr(x, y)[0]\n",
    "\n",
    "boot_strap = sp.stats.bootstrap((sample_2[\"X\"],sample_2[\"Y\"]), statistic=corr_p, paired=True, confidence_level=0.98, random_state=25)\n",
    "r_ci = [boot_strap.confidence_interval[0], boot_strap.confidence_interval[1]]\n",
    "r_ci"
   ]
  },
  {
   "cell_type": "code",
   "execution_count": 21,
   "id": "b24ab3b4-58bd-4e94-945e-bf71c3544f9f",
   "metadata": {
    "deletable": false,
    "nbgrader": {
     "cell_type": "code",
     "checksum": "e00ad0665cb15ba52bac7adf0bb17d55",
     "grade": false,
     "grade_id": "cell-6c7a615fa2793828",
     "locked": false,
     "schema_version": 3,
     "solution": true,
     "task": false
    },
    "tags": []
   },
   "outputs": [
    {
     "data": {
      "text/plain": [
       "[1.792948341896073, 2.3282111601384945]"
      ]
     },
     "execution_count": 21,
     "metadata": {},
     "output_type": "execute_result"
    }
   ],
   "source": [
    "# a\n",
    "def reg(x, y):\n",
    "    regress= sp.stats.linregress(x, y)\n",
    "    return regress[0], regress[1]\n",
    "boot_strap = sp.stats.bootstrap((sample_2[\"X\"],sample_2[\"Y\"]), reg, paired=True, confidence_level=0.98, random_state=25)\n",
    "a_ci = [boot_strap.confidence_interval[0][0], boot_strap.confidence_interval[1][0]]\n",
    "a_ci"
   ]
  },
  {
   "cell_type": "code",
   "execution_count": 24,
   "id": "74e13fc0-a246-490f-a57f-86edb9c10b5c",
   "metadata": {
    "deletable": false,
    "nbgrader": {
     "cell_type": "code",
     "checksum": "44f25c0695de50ffec324456a5fc362a",
     "grade": false,
     "grade_id": "cell-cc1ee5d5033d0923",
     "locked": false,
     "schema_version": 3,
     "solution": true,
     "task": false
    },
    "tags": []
   },
   "outputs": [
    {
     "data": {
      "text/plain": [
       "[-5.700934784848322, -3.4292283266002834]"
      ]
     },
     "execution_count": 24,
     "metadata": {},
     "output_type": "execute_result"
    }
   ],
   "source": [
    "# b\n",
    "def reg(x, y):\n",
    "    regress= sp.stats.linregress(x, y)\n",
    "    return regress[0], regress[1]\n",
    "boot_strap = sp.stats.bootstrap((sample_2[\"X\"],sample_2[\"Y\"]), sp.stats.linregress, paired=True, confidence_level=0.98, random_state=25)\n",
    "b_ci = [boot_strap.confidence_interval[0][1], boot_strap.confidence_interval[1][1]]\n",
    "b_ci"
   ]
  },
  {
   "cell_type": "code",
   "execution_count": 25,
   "id": "3f1721d8-6cea-4247-9fef-85ce055f02b6",
   "metadata": {
    "deletable": false,
    "editable": false,
    "nbgrader": {
     "cell_type": "code",
     "checksum": "93d36edc394e33cd91271bbdc21ba4c7",
     "grade": true,
     "grade_id": "cell-34b28c6c1e5083f0",
     "locked": true,
     "points": 7,
     "schema_version": 3,
     "solution": false,
     "task": false
    },
    "tags": []
   },
   "outputs": [],
   "source": [
    "# Komórka testowa\n",
    "assert np.all(np.isclose(mean_ci, (4.890098551749027, 5.063500727815335)))\n",
    "assert np.all(np.isclose(var_ci, (0.013001391902892368, 0.05670851692597062)))\n",
    "assert np.all(np.isclose(std_ci, (0.11423521149909441, 0.23829111055240196)))\n",
    "assert np.all(np.isclose(r_ci, (0.9156715777126913, 0.9822743695601276)))\n",
    "assert np.all(np.isclose(a_ci, (1.792948341896073, 2.3282111601384945)))\n",
    "assert np.all(np.isclose(b_ci, (-5.700934784848322, -3.4292283266002834)))"
   ]
  },
  {
   "cell_type": "code",
   "execution_count": null,
   "id": "7e51b3fe-e977-4c80-ac60-71d0fb35ae34",
   "metadata": {},
   "outputs": [],
   "source": []
  }
 ],
 "metadata": {
  "kernelspec": {
   "display_name": "Python 3 (ipykernel)",
   "language": "python",
   "name": "python3"
  },
  "language_info": {
   "codemirror_mode": {
    "name": "ipython",
    "version": 3
   },
   "file_extension": ".py",
   "mimetype": "text/x-python",
   "name": "python",
   "nbconvert_exporter": "python",
   "pygments_lexer": "ipython3",
   "version": "3.11.8"
  }
 },
 "nbformat": 4,
 "nbformat_minor": 5
}
