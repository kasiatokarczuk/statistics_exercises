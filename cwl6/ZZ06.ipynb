{
 "cells": [
  {
   "cell_type": "markdown",
   "id": "ef6451d5",
   "metadata": {
    "deletable": false,
    "editable": false,
    "nbgrader": {
     "cell_type": "markdown",
     "checksum": "ff0bc2c9546dc7416a62ab1f8e86fe5a",
     "grade": false,
     "grade_id": "cell-fcd2666579131b77",
     "locked": true,
     "schema_version": 3,
     "solution": false,
     "task": false
    },
    "tags": []
   },
   "source": [
    "# Statystyka matematyczna - ćwiczenia laboratoryjne 2023/2024\n",
    "\n",
    "Ten notatnik zalicza się do grupy zestawów zadań, na podstawie których odbywa się zaliczenie ćwiczeń i podlega zwrotowi do oceny w ustalonym na zajęciach terminie.\n",
    "\n",
    "Uwagi i wytyczne ogólne dotyczące uzupełniania notatnika:\n",
    "- Podczas wykonywania zadań należy korzystać wyłącznie z pakietów zaimportowanych na początku notatnika oraz z pakietów wchodzących w skład standardowej biblioteki Pythona, które można zaimportować samodzielnie we wskazanej komórce notatnika.\n",
    "- Swoje rozwiązania należy wprowadzać wyłącznie w miejce następujących fragmentów kodu:<br/> `# YOUR CODE HERE`<br/> `raise NotImplementedError()`<br/> \n",
    "a odpowiedzi tekstowe w komórkach oznaczonych hasłem:<br/> \n",
    "`YOUR ANSWER HERE`<br/> \n",
    "Nie należy w żaden sposób modyfikować pozostałych fragmentów kodu oraz innych elementów notatnika, w szczególności dodawać lub usuwać komórek oraz zmieniać nazwy pliku.\n",
    "- Otrzymywane wyniki i odpowiedzi mają być rezultatem wykonania napisanego kodu.\n",
    "- Zadanie należy wykonać w taki sposób, aby podczas wykonywania kodu nie zostały wyświetlone żadne ostrzeżenia.\n",
    "- Zawarte w notatniku automatyczne testy mają charakter poglądowy. Dotyczą one wybranych aspektów zadań i mają za zadanie wyłapać podstawowe błędy. Przejście wszystkich testów nie oznacza, że zadanie jest wykonane w całości poprawnie.\n",
    "\n",
    "Uwagi i wytyczne ogólne dotyczące wizualizacji wyników:\n",
    "- Wszystkie wykresy powinny być wykonane w jednolitym, przejrzystym i czytelnym stylu, posiadać odpowiednio dobrane proporcje i zakresy wartości osi.\n",
    "- Wykresy oraz ich osie powinny mieć nadane tytuły. Jeżeli w obrębie figury znajduje się więcej niż jeden wykres to figura również powinna mieć nadany tytuł. \n",
    "- Figury powinny mieć ustawione białe tło, tak, aby niezależnie od ustawień notatnika wszystkie elementy wykresów były dobrze widoczne (domyślnie tło jest przeźroczyste co może powodować problemy w notatnikach z ustawionym ciemnym tłem).\n",
    "- Rozmiar poziomy figur nie powinien przekraczać 20 cali.\n",
    "\n",
    "Przed odesłaniem zestawu zadań do oceny proszę uzupełnić komórkę z danymi autorów rozwiązania (nazwa zespołu oraz imiona, nazwiska i numery indeksów członków zespołu) oraz upewnić się, że notatnik działa zgodnie z oczekiwaniami. W tym celu należy skorzystać z opcji **Restart Kernel and Run All Cells...** dostępnej na górnej belce notatnika pod symbolem $\\blacktriangleright\\blacktriangleright$."
   ]
  },
  {
   "cell_type": "markdown",
   "id": "b3604db5",
   "metadata": {},
   "source": [
    "Nazwa zespołu: 2.38 Członkowie: Roksana Jandura 416314, Katarzyna Wesołwoska 415124, Katarzyna Tokarczuk 415787, Magdalena Pogorzelec 417858"
   ]
  },
  {
   "cell_type": "markdown",
   "id": "ed4c9fe2",
   "metadata": {
    "deletable": false,
    "editable": false,
    "nbgrader": {
     "cell_type": "markdown",
     "checksum": "eddc8826810e4a6f7bf68319da334bd9",
     "grade": false,
     "grade_id": "cell-109006d425e5cf83",
     "locked": true,
     "schema_version": 3,
     "solution": false,
     "task": false
    },
    "tags": []
   },
   "source": [
    "---"
   ]
  },
  {
   "cell_type": "markdown",
   "id": "2cab3dee-64d1-449f-a7a1-73d363496af1",
   "metadata": {
    "deletable": false,
    "editable": false,
    "nbgrader": {
     "cell_type": "markdown",
     "checksum": "85c96cbf70dacdadce66b1454d1b76c1",
     "grade": false,
     "grade_id": "cell-fc2fd58eca58acd8",
     "locked": true,
     "schema_version": 3,
     "solution": false,
     "task": false
    },
    "tags": []
   },
   "source": [
    "# Zestaw zadań 6: Estymacja parametryczna"
   ]
  },
  {
   "cell_type": "code",
   "execution_count": 1,
   "id": "1b570bcc-79c5-4910-9596-dc6f9e37f791",
   "metadata": {
    "deletable": false,
    "editable": false,
    "nbgrader": {
     "cell_type": "code",
     "checksum": "3fb81fbffe32228a0ed150298b6ca253",
     "grade": false,
     "grade_id": "cell-c780f0069b65cef5",
     "locked": true,
     "schema_version": 3,
     "solution": false,
     "task": false
    },
    "tags": []
   },
   "outputs": [],
   "source": [
    "import numpy as np\n",
    "import pandas as pd\n",
    "import scipy as sp\n",
    "import matplotlib as mpl\n",
    "import matplotlib.pyplot as plt\n",
    "import seaborn as sns"
   ]
  },
  {
   "cell_type": "code",
   "execution_count": 2,
   "id": "8e9502ca-b989-4aaf-94b3-dc56904ecfe6",
   "metadata": {
    "tags": []
   },
   "outputs": [],
   "source": [
    "# Miejsce do importu pakietów wchodzących w skład standardowej biblioteki Pythona oraz ustawienie opcji wykorzystywanych pakietów"
   ]
  },
  {
   "cell_type": "markdown",
   "id": "3d3dbc5d-ff5c-4919-9286-fe288d6838b1",
   "metadata": {
    "deletable": false,
    "editable": false,
    "nbgrader": {
     "cell_type": "markdown",
     "checksum": "0845806ed5ac64f49999bc881e334797",
     "grade": false,
     "grade_id": "cell-83979775407ac54d",
     "locked": true,
     "schema_version": 3,
     "solution": false,
     "task": false
    },
    "tags": []
   },
   "source": [
    "### Dane do zadań\n",
    "\n",
    "W celu wygenerowania danych wykorzystywanych w zawartych w notatniku komórkach testowych wykonaj obie poniższe komórki."
   ]
  },
  {
   "cell_type": "code",
   "execution_count": 3,
   "id": "7eda459f-959d-451e-bb03-cf3167eca40d",
   "metadata": {
    "deletable": false,
    "editable": false,
    "nbgrader": {
     "cell_type": "code",
     "checksum": "58e8a8c42eb0d81d0b9b134e28d2a754",
     "grade": false,
     "grade_id": "cell-e648939c56f44b08",
     "locked": true,
     "schema_version": 3,
     "solution": false,
     "task": false
    },
    "tags": []
   },
   "outputs": [
    {
     "data": {
      "text/html": [
       "<div>\n",
       "<style scoped>\n",
       "    .dataframe tbody tr th:only-of-type {\n",
       "        vertical-align: middle;\n",
       "    }\n",
       "\n",
       "    .dataframe tbody tr th {\n",
       "        vertical-align: top;\n",
       "    }\n",
       "\n",
       "    .dataframe thead th {\n",
       "        text-align: right;\n",
       "    }\n",
       "</style>\n",
       "<table border=\"1\" class=\"dataframe\">\n",
       "  <thead>\n",
       "    <tr style=\"text-align: right;\">\n",
       "      <th></th>\n",
       "      <th>X</th>\n",
       "    </tr>\n",
       "  </thead>\n",
       "  <tbody>\n",
       "    <tr>\n",
       "      <th>0</th>\n",
       "      <td>5.338105</td>\n",
       "    </tr>\n",
       "    <tr>\n",
       "      <th>1</th>\n",
       "      <td>4.906813</td>\n",
       "    </tr>\n",
       "    <tr>\n",
       "      <th>2</th>\n",
       "      <td>5.006564</td>\n",
       "    </tr>\n",
       "    <tr>\n",
       "      <th>3</th>\n",
       "      <td>5.081503</td>\n",
       "    </tr>\n",
       "    <tr>\n",
       "      <th>4</th>\n",
       "      <td>4.842215</td>\n",
       "    </tr>\n",
       "  </tbody>\n",
       "</table>\n",
       "</div>"
      ],
      "text/plain": [
       "          X\n",
       "0  5.338105\n",
       "1  4.906813\n",
       "2  5.006564\n",
       "3  5.081503\n",
       "4  4.842215"
      ]
     },
     "execution_count": 3,
     "metadata": {},
     "output_type": "execute_result"
    }
   ],
   "source": [
    "# Dane do testów 1\n",
    "test_data_1 = pd.DataFrame(data=sp.stats.norm.rvs(loc=5, scale=0.2, size=20, random_state=7), columns=[\"X\"])\n",
    "test_data_1.head()"
   ]
  },
  {
   "cell_type": "code",
   "execution_count": 4,
   "id": "659a241e-a4d8-4386-9d4b-87f01eb28ba1",
   "metadata": {
    "deletable": false,
    "editable": false,
    "nbgrader": {
     "cell_type": "code",
     "checksum": "6f16a3c459b945477868d40e2cb8f8a1",
     "grade": false,
     "grade_id": "cell-ce442b301e54e8d1",
     "locked": true,
     "schema_version": 3,
     "solution": false,
     "task": false
    },
    "tags": []
   },
   "outputs": [
    {
     "data": {
      "text/html": [
       "<div>\n",
       "<style scoped>\n",
       "    .dataframe tbody tr th:only-of-type {\n",
       "        vertical-align: middle;\n",
       "    }\n",
       "\n",
       "    .dataframe tbody tr th {\n",
       "        vertical-align: top;\n",
       "    }\n",
       "\n",
       "    .dataframe thead th {\n",
       "        text-align: right;\n",
       "    }\n",
       "</style>\n",
       "<table border=\"1\" class=\"dataframe\">\n",
       "  <thead>\n",
       "    <tr style=\"text-align: right;\">\n",
       "      <th></th>\n",
       "      <th>X</th>\n",
       "      <th>Y</th>\n",
       "    </tr>\n",
       "  </thead>\n",
       "  <tbody>\n",
       "    <tr>\n",
       "      <th>0</th>\n",
       "      <td>-1.614383</td>\n",
       "      <td>-9.653548</td>\n",
       "    </tr>\n",
       "    <tr>\n",
       "      <th>1</th>\n",
       "      <td>5.801005</td>\n",
       "      <td>8.109542</td>\n",
       "    </tr>\n",
       "    <tr>\n",
       "      <th>2</th>\n",
       "      <td>-1.072962</td>\n",
       "      <td>-7.234931</td>\n",
       "    </tr>\n",
       "    <tr>\n",
       "      <th>3</th>\n",
       "      <td>4.328927</td>\n",
       "      <td>4.561478</td>\n",
       "    </tr>\n",
       "    <tr>\n",
       "      <th>4</th>\n",
       "      <td>-1.861092</td>\n",
       "      <td>-6.031980</td>\n",
       "    </tr>\n",
       "  </tbody>\n",
       "</table>\n",
       "</div>"
      ],
      "text/plain": [
       "          X         Y\n",
       "0 -1.614383 -9.653548\n",
       "1  5.801005  8.109542\n",
       "2 -1.072962 -7.234931\n",
       "3  4.328927  4.561478\n",
       "4 -1.861092 -6.031980"
      ]
     },
     "execution_count": 4,
     "metadata": {},
     "output_type": "execute_result"
    }
   ],
   "source": [
    "# Dane do testów 2\n",
    "x = sp.stats.uniform.rvs(loc=-2, scale=10, size=250, random_state=34)\n",
    "y = 2*x - 5 + sp.stats.norm.rvs(loc=0, scale=2, size=250, random_state=13)\n",
    "test_data_2 = pd.DataFrame(data=np.array([x, y]).T, columns=[\"X\", \"Y\"])\n",
    "test_data_2.head()"
   ]
  },
  {
   "cell_type": "markdown",
   "id": "d9eb55f6-c4c9-4dd7-a2a9-cbca77b26bf2",
   "metadata": {
    "deletable": false,
    "editable": false,
    "nbgrader": {
     "cell_type": "markdown",
     "checksum": "8d161638fc0786b348e921632a45a4fc",
     "grade": false,
     "grade_id": "cell-978bc06155ec59ee",
     "locked": true,
     "schema_version": 3,
     "solution": false,
     "task": false
    },
    "tags": []
   },
   "source": [
    "### Zadanie 1: Estymacja wartości oczekiwanej [8 pkt]\n",
    "\n",
    "Przygotuj funkcję `mean_estimation()`, która będzie dokonywała estymacji przedziałowej wartości oczekiwanej dla danych wejściowych w postaci szeregu szczegółowego zgodnie ze schematem z załączonego do notatnika zestawu wzorów.\n",
    "\n",
    "Oprócz zwracanych wartości granic przedziału funkcja powinna wyświetlać następujący komunikat:\n",
    "\n",
    "`𝜇 należy do przedziału [X, Y] przy założeniu poziomu ufności 1-𝛼 = Z`\n",
    "\n",
    "gdzie X, Y i Z są automatycznie uzupełniane przez funkcję, a X i Y dodatkowo sformatowane w taki sposób, żeby wyświetlały się z dokładnością do 4 miejsc po przecinku."
   ]
  },
  {
   "cell_type": "code",
   "execution_count": 5,
   "id": "b1cdbb36-bc68-4f45-9952-122583a4e94e",
   "metadata": {
    "deletable": false,
    "nbgrader": {
     "cell_type": "code",
     "checksum": "292cf4c1b1e2d109c5ba22a827daa921",
     "grade": false,
     "grade_id": "cell-3190cac551203c3a",
     "locked": false,
     "schema_version": 3,
     "solution": true,
     "task": false
    },
    "tags": []
   },
   "outputs": [],
   "source": [
    "def mean_estimation(data, alpha, population_std=\"unknown\"):\n",
    "    srednia = data.mean().values[0] #średnia , same wartosci i 0 okresla pierwszy element\n",
    "    n = len(data)  #rozmiar próbki\n",
    "    \n",
    "    if population_std != \"unknown\":\n",
    "        #znane std\n",
    "        i = sp.stats.norm.ppf(1-alpha/2)\n",
    "        margines = i*population_std/np.sqrt(n)\n",
    "    else:\n",
    "        #nieznane std\n",
    "        s = data.std().values[0]  #standardowe std\n",
    "        t = sp.stats.t.ppf(1-alpha/2, n-1)  #wartosc krytyczna\n",
    "        margines = t*s/np.sqrt(n)           #korzystamy z std pandas więc ddof=1, nie musimy tutaj odejmowac\n",
    "\n",
    "    #okreslanie granic\n",
    "    X = srednia-margines #dolna\n",
    "    Y = srednia+margines #gorna\n",
    "    Z = 1-alpha          #poziom ufnosci\n",
    "\n",
    "    #Drukowanie i wywołanie\n",
    "    print(f\"μ należy do przedziału [{X:.4f}, {Y:.4f}] przy założeniu poziomu ufności 1-α = {Z}\")\n",
    "    return(X,Y)\n"
   ]
  },
  {
   "cell_type": "code",
   "execution_count": 6,
   "id": "92eaa74e-7ae7-4b97-aeb7-1d8bd16e2b3f",
   "metadata": {
    "deletable": false,
    "editable": false,
    "nbgrader": {
     "cell_type": "code",
     "checksum": "c613d782a42b54e2639198968fd45410",
     "grade": true,
     "grade_id": "cell-f856aaac1658539a",
     "locked": true,
     "points": 8,
     "schema_version": 3,
     "solution": false,
     "task": false
    },
    "tags": []
   },
   "outputs": [
    {
     "name": "stdout",
     "output_type": "stream",
     "text": [
      "μ należy do przedziału [4.9056, 5.0527] przy założeniu poziomu ufności 1-α = 0.9\n",
      "\n",
      "μ należy do przedziału [4.8915, 5.0668] przy założeniu poziomu ufności 1-α = 0.95\n",
      "\n",
      "μ należy do przedziału [4.8751, 5.0832] przy założeniu poziomu ufności 1-α = 0.98\n",
      "\n",
      "μ należy do przedziału [4.9134, 5.0450] przy założeniu poziomu ufności 1-α = 0.9\n",
      "\n",
      "μ należy do przedziału [4.8995, 5.0589] przy założeniu poziomu ufności 1-α = 0.95\n",
      "\n",
      "μ należy do przedziału [4.8825, 5.0759] przy założeniu poziomu ufności 1-α = 0.98\n"
     ]
    }
   ],
   "source": [
    "### Komórka testowa\n",
    "\n",
    "# Test na test_data_1 przy założeniu, że znane jest odchylenie standardowe populacji, z której została pobrana próbka losowa\n",
    "assert(np.all(np.isclose(mean_estimation(test_data_1, 0.1, population_std=0.2), (4.905619719495418, 5.05273990041144))))\n",
    "print()\n",
    "assert(np.all(np.isclose(mean_estimation(test_data_1, 0.05, population_std=0.2), (4.891527555895771, 5.066832064011087))))\n",
    "print()\n",
    "assert(np.all(np.isclose(mean_estimation(test_data_1, 0.02, population_std=0.2), (4.875142370240081, 5.083217249666777))))\n",
    "print()\n",
    "\n",
    "# # Test na test_data_1 przy założeniu, że nie jest znane odchylenie standardowe populacji, z której została pobrana próbka losowa\n",
    "assert(np.all(np.isclose(mean_estimation(test_data_1, 0.1), (4.913356369231727, 5.045003250675131))))\n",
    "print()\n",
    "assert(np.all(np.isclose(mean_estimation(test_data_1, 0.05), (4.899504007229391, 5.058855612677467))))\n",
    "print()\n",
    "assert(np.all(np.isclose(mean_estimation(test_data_1, 0.02), (4.882508507351398, 5.07585111255546))))"
   ]
  },
  {
   "cell_type": "markdown",
   "id": "36599899-83f4-4335-9aec-8570532d966d",
   "metadata": {
    "deletable": false,
    "editable": false,
    "nbgrader": {
     "cell_type": "markdown",
     "checksum": "6d75c9cf4df4a4676b999207df6b12df",
     "grade": false,
     "grade_id": "cell-97f9ce2a66172d25",
     "locked": true,
     "schema_version": 3,
     "solution": false,
     "task": false
    },
    "tags": []
   },
   "source": [
    "### Zadanie 2: Estymacja wariancji [8 pkt]\n",
    "\n",
    "Przygotuj funkcję `variance_estimation()`, która będzie dokonywała estymacji przedziałowej wariancji dla danych wejściowych w postaci szeregu szczegółowego zgodnie ze schematem z załączonego do notatnika zestawu wzorów.\n",
    "\n",
    "Oprócz zwracanych wartości granic przedziału funkcja powinna wyświetlać następujący komunikat:\n",
    "\n",
    "`𝜎^2  należy do przedziału [X, Y] przy założeniu poziomu ufności 1-𝛼 = Z`\n",
    "\n",
    "gdzie X, Y i Z są automatycznie uzupełniane przez funkcję, a X i Y dodatkowo sformatowane w taki sposób, żeby wyświetlały się z dokładnością do 4 miejsc po przecinku."
   ]
  },
  {
   "cell_type": "code",
   "execution_count": 16,
   "id": "36900e1a-315d-4443-b9ab-25a46368e988",
   "metadata": {
    "deletable": false,
    "nbgrader": {
     "cell_type": "code",
     "checksum": "c1a91e4db4656fb074186056c24b5628",
     "grade": false,
     "grade_id": "cell-79a02915c858343b",
     "locked": false,
     "schema_version": 3,
     "solution": true,
     "task": false
    },
    "tags": []
   },
   "outputs": [],
   "source": [
    "def variance_estimation(data, alpha, population_mean=\"unknown\"):\n",
    "    \"\"\"\n",
    "    Parameters\n",
    "    -------\n",
    "    data: DataFrame\n",
    "        Tablica zawierająca domyślny indeks i pojedynczą kolumnę \"X\" z wartościami próby losowej,\n",
    "    alpha: float\n",
    "        Wartość określająca poziom istotności.\n",
    "    population_mean: str or float\n",
    "        Jeżeli wartość oczekiwana populacji nie jest znane to parametr przyjmuje wartość \"unknown\",\n",
    "        w przeciwnym wypadku jest to wartość określająca wartość oczekiwaną populacji.\n",
    "    \n",
    "    Returns\n",
    "    -------\n",
    "    var_low: float\n",
    "        Dolna granica wyliczonego przedziału ufności.\n",
    "    var_high: float\n",
    "        Górna granica wyliczonego przedziału ufności.\n",
    "    \"\"\"\n",
    "    sample_data=data['X'].values\n",
    "    n=len(sample_data) #rozmiar \n",
    "\n",
    "    if population_mean == \"unknown\":\n",
    "        #nieznane population_mean, licze ze wzoru x\n",
    "        x=sample_data.mean()\n",
    "        s_squared=(1/n)*np.sum((sample_data-x)**2)\n",
    "    else:\n",
    "        #znane population_mean\n",
    "        s_squared=(1/n)*np.sum((sample_data-float(population_mean))**2)\n",
    "\n",
    "    #granice\n",
    "    var_low=(n*s_squared)/sp.stats.chi2.ppf(1-alpha/2, n-1)\n",
    "    var_high=(n*s_squared)/sp.stats.chi2.ppf(alpha/2, n-1)\n",
    "    Z = 1 - alpha #poziom ufności\n",
    "\n",
    "    print(f\"𝜎^2  należy do przedziału [{var_low:.4f}, {var_high:.4f}] przy założeniu poziomu ufności  1-α = {Z:.4f}\")\n",
    "\n",
    "    return var_low,var_high\n"
   ]
  },
  {
   "cell_type": "code",
   "execution_count": 17,
   "id": "7bfa40e7-b0bd-4dd0-ae73-3c659cfb6ca0",
   "metadata": {
    "deletable": false,
    "editable": false,
    "nbgrader": {
     "cell_type": "code",
     "checksum": "d93e9078a7dcb187bc0470a95d728d54",
     "grade": true,
     "grade_id": "cell-590df950d841e5e9",
     "locked": true,
     "points": 8,
     "schema_version": 3,
     "solution": false,
     "task": false
    },
    "tags": []
   },
   "outputs": [
    {
     "name": "stdout",
     "output_type": "stream",
     "text": [
      "𝜎^2  należy do przedziału [0.0186, 0.0553] przy założeniu poziomu ufności  1-α = 0.9000\n",
      "\n",
      "𝜎^2  należy do przedziału [0.0170, 0.0628] przy założeniu poziomu ufności  1-α = 0.9500\n",
      "\n",
      "𝜎^2  należy do przedziału [0.0155, 0.0733] przy założeniu poziomu ufności  1-α = 0.9800\n",
      "\n",
      "𝜎^2  należy do przedziału [0.0183, 0.0544] przy założeniu poziomu ufności  1-α = 0.9000\n",
      "\n",
      "𝜎^2  należy do przedziału [0.0168, 0.0618] przy założeniu poziomu ufności  1-α = 0.9500\n",
      "\n",
      "𝜎^2  należy do przedziału [0.0152, 0.0721] przy założeniu poziomu ufności  1-α = 0.9800\n"
     ]
    }
   ],
   "source": [
    "### Komórka testowa\n",
    "\n",
    "# Test na test_data_1 przy założeniu, że znane jest odchylenie standardowe populacji, z której została pobrana próbka losowa\n",
    "assert(np.all(np.isclose(variance_estimation(test_data_1, 0.1, population_mean=5), (0.01855573624556403, 0.05528660848892888))));\n",
    "print()\n",
    "assert(np.all(np.isclose(variance_estimation(test_data_1, 0.05, population_mean=5), (0.017025745016269588, 0.06280068548350207))));\n",
    "print()\n",
    "assert(np.all(np.isclose(variance_estimation(test_data_1, 0.02, population_mean=5), (0.015455150810030724, 0.07328116757245808))));\n",
    "print()\n",
    "\n",
    "# Test na test_data_1 przy założeniu, że nie jest znane odchylenie standardowe populacji, z której została pobrana próbka losowa\n",
    "assert(np.all(np.isclose(variance_estimation(test_data_1, 0.1), (0.018268125369359626, 0.05442967510189219))));\n",
    "print()\n",
    "assert(np.all(np.isclose(variance_estimation(test_data_1, 0.05), (0.0167618487538223, 0.06182728513230527))));\n",
    "print()\n",
    "assert(np.all(np.isclose(variance_estimation(test_data_1, 0.02), (0.015215598500840796, 0.07214532146342346))));"
   ]
  },
  {
   "cell_type": "markdown",
   "id": "b4004751-beb1-44fa-a2d1-470d57cadfee",
   "metadata": {
    "deletable": false,
    "editable": false,
    "nbgrader": {
     "cell_type": "markdown",
     "checksum": "1865a480d4e10efdae2ef04afacace9d",
     "grade": false,
     "grade_id": "cell-787229ac00229efe",
     "locked": true,
     "schema_version": 3,
     "solution": false,
     "task": false
    },
    "tags": []
   },
   "source": [
    "### Zadanie 3: Estymacja wartości współczynnika korelacji liniowej [6 pkt]\n",
    "\n",
    "Przygotuj funkcję `correlation_estimation()`, która będzie dokonywała estymacji przedziałowej wartości współczynnika korelacji liniowej Pearsona dla danych wejściowych w postaci szeregu szczegółowego zgodnie ze schematem z załączonego do notatnika zestawu wzorów.\n",
    "\n",
    "Oprócz zwracanych wartości granic przedziału funkcja powinna wyświetlać następujący komunikat:\n",
    "\n",
    "`r należy do przedziału [X, Y] przy założeniu poziomu ufności 1-𝛼 = Z`\n",
    "\n",
    "gdzie X, Y i Z są automatycznie uzupełniane przez funkcję, a X i Y dodatkowo sformatowane w taki sposób, żeby wyświetlały się z dokładnością do 4 miejsc po przecinku."
   ]
  },
  {
   "cell_type": "code",
   "execution_count": 9,
   "id": "8766cdea-d140-493a-8eda-07977d432dbd",
   "metadata": {
    "deletable": false,
    "nbgrader": {
     "cell_type": "code",
     "checksum": "8d5dfff7420ca3c5e548d8a06336a093",
     "grade": false,
     "grade_id": "cell-e3388b3e7966ada6",
     "locked": false,
     "schema_version": 3,
     "solution": true,
     "task": false
    },
    "tags": []
   },
   "outputs": [],
   "source": [
    "def correlation_estimation(data, alpha):\n",
    "    \"\"\"\n",
    "    Parameters\n",
    "    -------\n",
    "    data: DataFrame\n",
    "        Tablica zawierająca domyślny indeks i dwie kolumny \"X\" i \"Y\" z wynikami próby losowej.\n",
    "    alpha: float\n",
    "        Wartość określająca poziom istotności.\n",
    "    Returns\n",
    "    -------\n",
    "    r_corr_low: float\n",
    "        Dolna granica wyliczonego przedziału ufności.\n",
    "    r_corr_high: float\n",
    "        Górna granica wyliczonego przedziału ufności. \n",
    "    \"\"\"   \n",
    "\n",
    "    n = len(data)  # liczba obserwacji\n",
    "\n",
    "    # Obliczenie średnich dla X i Y\n",
    "    X_mean = data['X'].mean()\n",
    "    Y_mean = data['Y'].mean()\n",
    "\n",
    "    # Obliczenie estymatora współczynnika korelacji Pearsona\n",
    "    licznik = np.sum((data['X'] - X_mean) * (data['Y'] - Y_mean))\n",
    "    mianownik = np.sqrt(np.sum((data['X'] - X_mean)**2) * np.sum((data['Y'] - Y_mean)**2))\n",
    "    r = licznik / mianownik\n",
    "    \n",
    "    # Obliczenie uwarunkowania\n",
    "    u = sp.stats.norm.ppf(1 - alpha / 2)\n",
    "\n",
    "    # Obliczenie granic przedziału ufności\n",
    "    r_corr_low = r - u * (1 - r**2) / np.sqrt(n)\n",
    "    r_corr_high = r + u * (1 - r**2) / np.sqrt(n)\n",
    "\n",
    "    \n",
    "    # Formatowanie wartości X i Y\n",
    "    X = round(r_corr_low, 4)\n",
    "    Y = round(r_corr_high, 4)\n",
    "    Z=1-alpha\n",
    "\n",
    "    print(f\"r należy do przedziału [{X}, {Y}] przy założeniu poziomu ufności 1-{alpha} = {Z}\")\n",
    "\n",
    "    return r_corr_low, r_corr_high"
   ]
  },
  {
   "cell_type": "code",
   "execution_count": 10,
   "id": "f5b069bf-7a54-4ced-8f6f-009548102b4c",
   "metadata": {
    "deletable": false,
    "editable": false,
    "nbgrader": {
     "cell_type": "code",
     "checksum": "5b5507bdf84aa4149d4a76e360702717",
     "grade": true,
     "grade_id": "cell-2f4af63f6b0b79b7",
     "locked": true,
     "points": 6,
     "schema_version": 3,
     "solution": false,
     "task": false
    },
    "tags": []
   },
   "outputs": [
    {
     "name": "stdout",
     "output_type": "stream",
     "text": [
      "r należy do przedziału [0.9495, 0.9692] przy założeniu poziomu ufności 1-0.05 = 0.95\n",
      "r należy do przedziału [0.9476, 0.9711] przy założeniu poziomu ufności 1-0.02 = 0.98\n"
     ]
    }
   ],
   "source": [
    "### Komórka testowa\n",
    "assert np.all(np.isclose(correlation_estimation(test_data_2, 0.05), (0.9494696249316307, 0.9692185148958979)))\n",
    "assert np.all(np.isclose(correlation_estimation(test_data_2, 0.02), (0.9476237555239514, 0.9710643843035772)))"
   ]
  },
  {
   "cell_type": "markdown",
   "id": "da7a9752-c2b9-4cf8-86ee-eefb4b17382d",
   "metadata": {
    "deletable": false,
    "editable": false,
    "nbgrader": {
     "cell_type": "markdown",
     "checksum": "6e700b597a80f237912208c0c52d4e35",
     "grade": false,
     "grade_id": "cell-696dd477c93849e6",
     "locked": true,
     "schema_version": 3,
     "solution": false,
     "task": false
    },
    "tags": []
   },
   "source": [
    "### Zadanie 4: Estymacja współczynników równania regresji liniowej [8 pkt]\n",
    "\n",
    "Przygotuj funkcję `interval_linear_regression_coefficients_estimation()`, która będzie dokonywała estymacji przedziałowej wartości współczynników równania regresji liniowej dla danych wejściowych w postaci szeregu szczegółowego zgodnie ze schematem z załączonego do notatnika zestawu wzorów.\n",
    "\n",
    "Oprócz zwracanych wartości granic przedziału funkcja powinna wyświetlać następujący komunikat:\n",
    "\n",
    "`a należy do przedziału [X1, Y1] przy założeniu poziomu ufności 1-𝛼 = Z1` </br>\n",
    "`b należy do przedziału [X2, Y2] przy założeniu poziomu ufności 1-𝛼 = Z2`\n",
    "\n",
    "gdzie X1, X2, Y1, Y2, Z1 i Z2 są automatycznie uzupełniane przez funkcję, a X1, X2, Y1 i Y2 dodatkowo sformatowane w taki sposób, żeby wyświetlały się z dokładnością do 4 miejsc po przecinku."
   ]
  },
  {
   "cell_type": "code",
   "execution_count": 18,
   "id": "473ddec1-04a1-438b-8d1c-3486bfd8c9ae",
   "metadata": {
    "deletable": false,
    "nbgrader": {
     "cell_type": "code",
     "checksum": "8a71ad8ae801b0267503d14224d100a4",
     "grade": false,
     "grade_id": "cell-07dc1b0100c687d3",
     "locked": false,
     "schema_version": 3,
     "solution": true,
     "task": false
    },
    "tags": []
   },
   "outputs": [],
   "source": [
    "def linear_regression_coefficients_estimation(data, alpha):\n",
    "    \"\"\"\n",
    "    Parameters\n",
    "    -------\n",
    "    data: DataFrame\n",
    "        Tablica zawierająca domyślny indeks i dwie kolumny \"X\" i \"Y\" z wynikami próby losowej.\n",
    "    alpha: float\n",
    "        Wartość określająca poziom istotności.\n",
    "    Returns\n",
    "    -------\n",
    "    a_ci: tuple\n",
    "        Zmienna typu tuple zawierajaca granice przedziału ufności parametru a (a_low, a_high).\n",
    "    b_ci: tuple\n",
    "        Zmienna typu tuple zawierajaca granice przedziału ufności parametru b (b_low, b_high).\n",
    "    \"\"\"   \n",
    "    # YOUR CODE HERE\n",
    "    n = len(data)  # liczba obserwacji\n",
    "\n",
    "    # Obliczenie średnich dla X i Y\n",
    "    X_mean = data['X'].mean()\n",
    "    Y_mean = data['Y'].mean()\n",
    "\n",
    "    # Obliczenie estymatora współczynnika a\n",
    "    licznik = np.sum((data['X'] - X_mean) * (data['Y'] - Y_mean))\n",
    "    mianownik = np.sum((data['X'] - X_mean)**2)\n",
    "    a = licznik / mianownik\n",
    "\n",
    "    # Obliczenie estymatora współczynnika b\n",
    "    b = Y_mean - a * X_mean\n",
    "\n",
    "    # Obliczenie niepewności dla a\n",
    "    su = np.sqrt(1 / (n - 2) * np.sum((data['Y'] - (a * data['X'] + b))**2))\n",
    "    Da = su / np.sqrt(np.sum((data['X'] - X_mean)**2))\n",
    "\n",
    "    # Obliczenie niepewności dla b\n",
    "    Db = su * np.sqrt(np.sum((data['X'])**2) / (n * np.sum((data['X'] - X_mean)**2)))\n",
    "\n",
    "    # Obliczenie wartości krytycznych dla przedziałów ufności\n",
    "    t_statistic = sp.stats.t.ppf(1 - alpha / 2, n-2)\n",
    "\n",
    "    # Obliczenie granic przedziałów ufności dla a\n",
    "    a_low = a - t_statistic * Da\n",
    "    a_high = a + t_statistic * Da\n",
    "\n",
    "    # Obliczenie granic przedziałów ufności dla b\n",
    "    b_low = b - t_statistic * Db\n",
    "    b_high = b + t_statistic * Db\n",
    "\n",
    "    # Formatowanie wartości\n",
    "    X1, X2, Y1, Y2, Z1, Z2 = round(a_low, 4), round(a_high, 4), round(b_low, 4), round(b_high, 4), round(1-alpha, 4), round(1-alpha, 4)\n",
    "\n",
    "    print(f\"a należy do przedziału [{X1}, {X2}] przy założeniu poziomu ufności 1-{alpha} = {Z1}\")\n",
    "    print(f\"b należy do przedziału [{Y1}, {Y2}] przy założeniu poziomu ufności 1-{alpha} = {Z2}\")\n",
    "\n",
    "    return (a_low, a_high), (b_low, b_high)"
   ]
  },
  {
   "cell_type": "code",
   "execution_count": 19,
   "id": "85074a05-ee98-47a6-ad20-cd4d300cb118",
   "metadata": {
    "deletable": false,
    "editable": false,
    "nbgrader": {
     "cell_type": "code",
     "checksum": "19a5160e62b6995dd8e0a4ea85855177",
     "grade": true,
     "grade_id": "cell-54fa1dbb28b96119",
     "locked": true,
     "points": 8,
     "schema_version": 3,
     "solution": false,
     "task": false
    },
    "tags": []
   },
   "outputs": [
    {
     "name": "stdout",
     "output_type": "stream",
     "text": [
      "a należy do przedziału [1.9033, 2.0245] przy założeniu poziomu ufności 1-0.1 = 0.9\n",
      "b należy do przedziału [-5.331, -4.7958] przy założeniu poziomu ufności 1-0.1 = 0.9\n",
      "\n",
      "a należy do przedziału [1.8916, 2.0361] przy założeniu poziomu ufności 1-0.05 = 0.95\n",
      "b należy do przedziału [-5.3827, -4.7442] przy założeniu poziomu ufności 1-0.05 = 0.95\n"
     ]
    }
   ],
   "source": [
    "### Komórka testowa\n",
    "assert np.all(np.isclose(linear_regression_coefficients_estimation(test_data_2, 0.1), ((1.90330932143819, 2.024457061652292), (-5.331039505544365, -4.7958291264947706))))\n",
    "print()\n",
    "assert np.all(np.isclose(linear_regression_coefficients_estimation(test_data_2, 0.05), ((1.8916219551002786, 2.0361444279902035), (-5.382672328053067, -4.744196303986069))))"
   ]
  },
  {
   "cell_type": "code",
   "execution_count": null,
   "id": "1e4e0359-1d24-41de-880a-2df9f43d7de4",
   "metadata": {},
   "outputs": [],
   "source": []
  }
 ],
 "metadata": {
  "kernelspec": {
   "display_name": "Python 3 (ipykernel)",
   "language": "python",
   "name": "python3"
  },
  "language_info": {
   "codemirror_mode": {
    "name": "ipython",
    "version": 3
   },
   "file_extension": ".py",
   "mimetype": "text/x-python",
   "name": "python",
   "nbconvert_exporter": "python",
   "pygments_lexer": "ipython3",
   "version": "3.11.8"
  }
 },
 "nbformat": 4,
 "nbformat_minor": 5
}
